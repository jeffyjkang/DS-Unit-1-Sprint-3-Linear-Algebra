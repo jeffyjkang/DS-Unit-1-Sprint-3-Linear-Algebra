{
 "cells": [
  {
   "cell_type": "markdown",
   "metadata": {},
   "source": [
    "## Autograded Notebook (Canvas & CodeGrade)\n",
    "\n",
    "This notebook will be automatically graded. It is designed to test your answers and award points for the correct answers. Following the instructions for each Task carefully.\n",
    "\n",
    "### Instructions\n",
    "\n",
    "* **Download this notebook** as you would any other ipynb file\n",
    "* **Upload** to Google Colab or work locally (if you have that set-up)\n",
    "* **Delete `raise NotImplementedError()`**\n",
    "* Write your code in the `# YOUR CODE HERE` space\n",
    "* **Execute** the Test cells that contain `assert` statements - these help you check your work (others contain hidden tests that will be checked when you submit through Canvas)\n",
    "* **Save** your notebook when you are finished\n",
    "* **Download** as a `ipynb` file (if working in Colab)\n",
    "* **Upload** your complete notebook to Canvas (there will be additional instructions in Slack and/or Canvas)"
   ]
  },
  {
   "cell_type": "markdown",
   "metadata": {
    "id": "RQw2GTc8oDRw"
   },
   "source": [
    "# Lambda School Data Science - Unit 1 Sprint 3 Module 3\n",
    "\n",
    "## Module Project: Multiple Linear Regression\n",
    "\n",
    "### Learning Objectives\n",
    "\n",
    "* model the relationship of multiple predictor variables to a single outcome\n",
    "* conduct a t-test to determine the significance of individual variables in the model\n",
    "* compare model fit using R-squared\n",
    "\n",
    "### Total notebook points: 13"
   ]
  },
  {
   "cell_type": "markdown",
   "metadata": {
    "id": "MHWnltybtm8_"
   },
   "source": [
    "## Part A: Introduction\n",
    "\n",
    "### Statistical significance between head size and brain weight in healthy adult humans\n",
    "\n",
    "The `Brainhead.csv` dataset provides information on 237 individuals who were subject to post-mortem examination at the Middlesex Hospital in London around the turn of the 20th century. Study authors used cadavers to see if a relationship between brain weight and other more easily measured physiological characterizes such as age, sex, and head size could be determined. The end goal was to develop a way to estimate a person’s brain size while they were still alive (as the living aren’t keen on having their brains taken out and weighed).\n",
    "\n",
    "**We wish to determine if we can improve on our model of the linear relationship between head size and brain weight in healthy human adults.**\n",
    "\n",
    "Source: R.J. Gladstone (1905). \"A Study of the Relations of the Brain to the Size of the Head\", Biometrika, Vol. 4, pp105-123.\n",
    "\n",
    "### Use the above information to complete the following tasks."
   ]
  },
  {
   "cell_type": "markdown",
   "metadata": {
    "id": "HCdydDBSxKLL"
   },
   "source": [
    "**Task 1** - Load the data\n",
    "\n",
    "Let's load the data! The URL has been provided as well as the imports for pandas and numpy.\n",
    "\n",
    "* load your CSV file into a DataFrame named `df`"
   ]
  },
  {
   "cell_type": "code",
   "execution_count": 12,
   "metadata": {
    "colab": {
     "base_uri": "https://localhost:8080/",
     "height": 204
    },
    "deletable": false,
    "id": "0NKz1DvXQHqq",
    "nbgrader": {
     "cell_type": "code",
     "checksum": "7e62c4220847f690fff7fc7bcc2458b9",
     "grade": false,
     "grade_id": "cell-0434f06199d1ad11",
     "locked": false,
     "schema_version": 3,
     "solution": true,
     "task": false
    },
    "outputId": "a5e96db7-b31d-4aaf-b1c7-1e7497090182"
   },
   "outputs": [
    {
     "name": "stdout",
     "output_type": "stream",
     "text": [
      "(237, 4)\n"
     ]
    },
    {
     "data": {
      "text/html": [
       "<div>\n",
       "<style scoped>\n",
       "    .dataframe tbody tr th:only-of-type {\n",
       "        vertical-align: middle;\n",
       "    }\n",
       "\n",
       "    .dataframe tbody tr th {\n",
       "        vertical-align: top;\n",
       "    }\n",
       "\n",
       "    .dataframe thead th {\n",
       "        text-align: right;\n",
       "    }\n",
       "</style>\n",
       "<table border=\"1\" class=\"dataframe\">\n",
       "  <thead>\n",
       "    <tr style=\"text-align: right;\">\n",
       "      <th></th>\n",
       "      <th>Gender</th>\n",
       "      <th>Age</th>\n",
       "      <th>Head</th>\n",
       "      <th>Brain</th>\n",
       "    </tr>\n",
       "  </thead>\n",
       "  <tbody>\n",
       "    <tr>\n",
       "      <th>0</th>\n",
       "      <td>1</td>\n",
       "      <td>1</td>\n",
       "      <td>4512</td>\n",
       "      <td>1530</td>\n",
       "    </tr>\n",
       "    <tr>\n",
       "      <th>1</th>\n",
       "      <td>1</td>\n",
       "      <td>1</td>\n",
       "      <td>3738</td>\n",
       "      <td>1297</td>\n",
       "    </tr>\n",
       "    <tr>\n",
       "      <th>2</th>\n",
       "      <td>1</td>\n",
       "      <td>1</td>\n",
       "      <td>4261</td>\n",
       "      <td>1335</td>\n",
       "    </tr>\n",
       "    <tr>\n",
       "      <th>3</th>\n",
       "      <td>1</td>\n",
       "      <td>1</td>\n",
       "      <td>3777</td>\n",
       "      <td>1282</td>\n",
       "    </tr>\n",
       "    <tr>\n",
       "      <th>4</th>\n",
       "      <td>1</td>\n",
       "      <td>1</td>\n",
       "      <td>4177</td>\n",
       "      <td>1590</td>\n",
       "    </tr>\n",
       "  </tbody>\n",
       "</table>\n",
       "</div>"
      ],
      "text/plain": [
       "   Gender  Age  Head  Brain\n",
       "0       1    1  4512   1530\n",
       "1       1    1  3738   1297\n",
       "2       1    1  4261   1335\n",
       "3       1    1  3777   1282\n",
       "4       1    1  4177   1590"
      ]
     },
     "execution_count": 12,
     "metadata": {},
     "output_type": "execute_result"
    }
   ],
   "source": [
    "# Task 1\n",
    "\n",
    "import pandas as pd\n",
    "import numpy as np\n",
    "\n",
    "data_url = 'https://raw.githubusercontent.com/LambdaSchool/data-science-practice-datasets/main/unit_1/Brainhead/Brainhead.csv'\n",
    "\n",
    "# YOUR CODE HERE\n",
    "# raise NotImplementedError()\n",
    "df = pd.read_csv(data_url)\n",
    "\n",
    "# Print out your DataFrame\n",
    "print(df.shape)\n",
    "df.head()"
   ]
  },
  {
   "cell_type": "code",
   "execution_count": null,
   "metadata": {
    "deletable": false,
    "editable": false,
    "id": "28oXofQSxKLN",
    "nbgrader": {
     "cell_type": "code",
     "checksum": "94e9bf1f2fbcc5bcb864d5a79a80f518",
     "grade": true,
     "grade_id": "cell-1c36b133f6ac028d",
     "locked": true,
     "points": 1,
     "schema_version": 3,
     "solution": false,
     "task": false
    }
   },
   "outputs": [],
   "source": [
    "# Task 1 - Test\n",
    "\n",
    "assert isinstance(df, pd.DataFrame), 'Have you created a DataFrame named `df`?'\n",
    "assert len(df) == 237\n"
   ]
  },
  {
   "cell_type": "markdown",
   "metadata": {
    "id": "4eJsXuRLxKrz"
   },
   "source": [
    "**Task 2** - Fit OLS Model\n",
    "\n",
    "Run the OLS model relating head size to brain weight - you should have done this in your project yesterday. The `statsmodels.formula.api` import has been provided. After you fit your model, print out your model results.\n",
    "\n",
    "* Fit an OLS model and name your variable `model`.\n",
    "\n",
    "*Hint: Make sure to use the format Y ~ X*"
   ]
  },
  {
   "cell_type": "code",
   "execution_count": 4,
   "metadata": {
    "colab": {
     "base_uri": "https://localhost:8080/"
    },
    "deletable": false,
    "id": "c9qyMXd_Hh6l",
    "nbgrader": {
     "cell_type": "code",
     "checksum": "3001d5d99a7f292e111911ab479362ef",
     "grade": false,
     "grade_id": "cell-2aa2fa6eba350a2c",
     "locked": false,
     "schema_version": 3,
     "solution": true,
     "task": false
    },
    "outputId": "c3eab3f5-f4cb-4680-d527-6c79f61d2346"
   },
   "outputs": [
    {
     "name": "stdout",
     "output_type": "stream",
     "text": [
      "                            OLS Regression Results                            \n",
      "==============================================================================\n",
      "Dep. Variable:                  Brain   R-squared:                       0.639\n",
      "Model:                            OLS   Adj. R-squared:                  0.638\n",
      "Method:                 Least Squares   F-statistic:                     416.5\n",
      "Date:                Mon, 25 Oct 2021   Prob (F-statistic):           5.96e-54\n",
      "Time:                        19:21:22   Log-Likelihood:                -1350.3\n",
      "No. Observations:                 237   AIC:                             2705.\n",
      "Df Residuals:                     235   BIC:                             2711.\n",
      "Df Model:                           1                                         \n",
      "Covariance Type:            nonrobust                                         \n",
      "==============================================================================\n",
      "                 coef    std err          t      P>|t|      [0.025      0.975]\n",
      "------------------------------------------------------------------------------\n",
      "Intercept    325.5734     47.141      6.906      0.000     232.701     418.446\n",
      "Head           0.2634      0.013     20.409      0.000       0.238       0.289\n",
      "==============================================================================\n",
      "Omnibus:                        8.329   Durbin-Watson:                   1.843\n",
      "Prob(Omnibus):                  0.016   Jarque-Bera (JB):                8.665\n",
      "Skew:                           0.366   Prob(JB):                       0.0131\n",
      "Kurtosis:                       3.584   Cond. No.                     3.66e+04\n",
      "==============================================================================\n",
      "\n",
      "Notes:\n",
      "[1] Standard Errors assume that the covariance matrix of the errors is correctly specified.\n",
      "[2] The condition number is large, 3.66e+04. This might indicate that there are\n",
      "strong multicollinearity or other numerical problems.\n"
     ]
    }
   ],
   "source": [
    "# Task 2\n",
    "\n",
    "# Import statsmodels - DON'T Delete\n",
    "from statsmodels.formula.api import ols\n",
    "\n",
    "# Model input format\n",
    "# format Y ~ X\n",
    "\n",
    "# YOUR CODE HERE\n",
    "# raise NotImplementedError()\n",
    "model = ols('Brain ~ Head',data=df).fit()\n",
    "\n",
    "# Print the model summary\n",
    "print(model.summary())"
   ]
  },
  {
   "cell_type": "code",
   "execution_count": null,
   "metadata": {
    "deletable": false,
    "editable": false,
    "id": "2Z8fWgSCxKLN",
    "nbgrader": {
     "cell_type": "code",
     "checksum": "5f89e20a472e94b28813e9c2678242d7",
     "grade": true,
     "grade_id": "cell-bb49143b30a4fcee",
     "locked": true,
     "points": 1,
     "schema_version": 3,
     "solution": false,
     "task": false
    }
   },
   "outputs": [],
   "source": [
    "# Task 2 - Test\n",
    "# Hidden tests - you will see the results when you submit to Canvas"
   ]
  },
  {
   "cell_type": "markdown",
   "metadata": {
    "id": "y21TW4n67mNq"
   },
   "source": [
    "**Task 3** - Adjusted $R^2$\n",
    "\n",
    "Using your model summary, what is the adjusted $R^2$ for this model?  \n",
    "\n",
    "* Assign the value of adjusted $R^2$ to the variable `adj_R2` (use three decimal places, e.g. 0.123). Your variable should be a float."
   ]
  },
  {
   "cell_type": "code",
   "execution_count": 5,
   "metadata": {
    "colab": {
     "base_uri": "https://localhost:8080/"
    },
    "deletable": false,
    "id": "aPrHlk-fxKLO",
    "nbgrader": {
     "cell_type": "code",
     "checksum": "bf45847fe3042878d7a5943dc3aa2df8",
     "grade": false,
     "grade_id": "cell-0b8d856cc141c2a7",
     "locked": false,
     "schema_version": 3,
     "solution": true,
     "task": false
    },
    "outputId": "bbe7111e-2a37-42b2-88a1-1873fcd72ced"
   },
   "outputs": [
    {
     "name": "stdout",
     "output_type": "stream",
     "text": [
      "The adjusted R^2 is:  0.638\n"
     ]
    }
   ],
   "source": [
    "# Task 3\n",
    "\n",
    "# YOUR CODE HERE\n",
    "# raise NotImplementedError()\n",
    "adj_R2 = 0.638\n",
    "\n",
    "# Print the adjusted R^2 value\n",
    "print('The adjusted R^2 is: ', adj_R2)"
   ]
  },
  {
   "cell_type": "code",
   "execution_count": null,
   "metadata": {
    "deletable": false,
    "editable": false,
    "id": "wcS5dUp-xKLP",
    "nbgrader": {
     "cell_type": "code",
     "checksum": "95912fea3cedffb0ffaafacfa45b16a0",
     "grade": true,
     "grade_id": "cell-70088d009573d8ab",
     "locked": true,
     "points": 1,
     "schema_version": 3,
     "solution": false,
     "task": false
    }
   },
   "outputs": [],
   "source": [
    "# Task 3 - Test\n",
    "\n",
    "# Hidden tests - you will see the results when you submit to Canvas"
   ]
  },
  {
   "cell_type": "markdown",
   "metadata": {
    "id": "N2INn9IjpcQv"
   },
   "source": [
    "**Task 4** - Interpret adjusted R-squared\n",
    "\n",
    "Select the correct interpretation of the R-squared value you calculated in Task 3.  Specify your answer in the next code block using `Answer = `.  For example, if the correct answer is choice B, you'll type `Answer = 'B'`.\n",
    "\n",
    "A: 64% of the variability in head size can be explained by differences in brain weight\n",
    "\n",
    "B: The model is accurate 64% of the time.\n",
    "\n",
    "C: 64% of the variability in brain weight can be explained by differences in head size\n",
    "\n",
    "D: We are 64% confident that we can predict variability in brain weight using differences in head size.\n"
   ]
  },
  {
   "cell_type": "code",
   "execution_count": null,
   "metadata": {
    "deletable": false,
    "id": "UENkK4C9pcQv",
    "nbgrader": {
     "cell_type": "code",
     "checksum": "966f641c320241a7b60018b2eee4bdf5",
     "grade": false,
     "grade_id": "cell-c02b4f62d01286ac",
     "locked": false,
     "schema_version": 3,
     "solution": true,
     "task": false
    }
   },
   "outputs": [],
   "source": [
    "# Task 4\n",
    "\n",
    "# YOUR CODE HERE\n",
    "# raise NotImplementedError()\n",
    "Answer = 'C'"
   ]
  },
  {
   "cell_type": "markdown",
   "metadata": {
    "id": "tSqVznCtpcQw"
   },
   "source": [
    "**Task 4 Test**"
   ]
  },
  {
   "cell_type": "code",
   "execution_count": null,
   "metadata": {
    "deletable": false,
    "editable": false,
    "id": "Zuj6te-UpcQw",
    "nbgrader": {
     "cell_type": "code",
     "checksum": "6fa3e36df5933c4210ce08a948a2e3b9",
     "grade": true,
     "grade_id": "cell-3970fbb1a3eaefb5",
     "locked": true,
     "points": 1,
     "schema_version": 3,
     "solution": false,
     "task": false
    }
   },
   "outputs": [],
   "source": [
    "# Task 4 - Test\n",
    "# Hidden tests - you will see the results when you submit to Canvas"
   ]
  },
  {
   "cell_type": "markdown",
   "metadata": {
    "id": "Xj2YmBd_Jl9q"
   },
   "source": [
    "**Task 5** - Encoding new variables\n",
    "\n",
    "From the data dictionary for this data set:\n",
    "\n",
    "Gender\n",
    "* 1 = male\n",
    "* 2 = female\n",
    "\n",
    "Age\n",
    "* 1 = younger than age 46\n",
    "* 2 = age 46 and older\n",
    "\n",
    "Right now age and gender are coded with 1 and 2.  A more conventional way to encode the data for our model would be to subtract \"1\" from Age and Gender so that \"1\" is now coded as \"0\" and \"2\" is now coded as \"1\".  Create two new columns in the DataFrame to do this - don't overwrite the original columns!\n",
    "\n",
    "**Your tasks:**\n",
    "\n",
    "* Create a new Series (column) for age and give it the column name `Age_01`.\n",
    "* Create a new Series (column) for gender and give it the column `Gender_01`."
   ]
  },
  {
   "cell_type": "code",
   "execution_count": 15,
   "metadata": {
    "deletable": false,
    "id": "z9z5i-EaKcj6",
    "nbgrader": {
     "cell_type": "code",
     "checksum": "c2b0791c127934a7ecb3e51fcfced239",
     "grade": false,
     "grade_id": "cell-ad1f0446a3bc99b1",
     "locked": false,
     "schema_version": 3,
     "solution": true,
     "task": false
    },
    "outputId": "b658b189-f5e9-4c7d-d253-2ef32efce6d0"
   },
   "outputs": [
    {
     "name": "stdout",
     "output_type": "stream",
     "text": [
      "(237, 6)\n",
      "     Gender  Age  Head  Brain  Age_01  Gender_01\n",
      "0         1    1  4512   1530       0          0\n",
      "1         1    1  3738   1297       0          0\n",
      "2         1    1  4261   1335       0          0\n",
      "3         1    1  3777   1282       0          0\n",
      "4         1    1  4177   1590       0          0\n",
      "..      ...  ...   ...    ...     ...        ...\n",
      "232       2    2  3214   1110       1          1\n",
      "233       2    2  3394   1215       1          1\n",
      "234       2    2  3233   1104       1          1\n",
      "235       2    2  3352   1170       1          1\n",
      "236       2    2  3391   1120       1          1\n",
      "\n",
      "[237 rows x 6 columns]\n"
     ]
    },
    {
     "data": {
      "text/html": [
       "<div>\n",
       "<style scoped>\n",
       "    .dataframe tbody tr th:only-of-type {\n",
       "        vertical-align: middle;\n",
       "    }\n",
       "\n",
       "    .dataframe tbody tr th {\n",
       "        vertical-align: top;\n",
       "    }\n",
       "\n",
       "    .dataframe thead th {\n",
       "        text-align: right;\n",
       "    }\n",
       "</style>\n",
       "<table border=\"1\" class=\"dataframe\">\n",
       "  <thead>\n",
       "    <tr style=\"text-align: right;\">\n",
       "      <th></th>\n",
       "      <th>Gender</th>\n",
       "      <th>Age</th>\n",
       "      <th>Head</th>\n",
       "      <th>Brain</th>\n",
       "      <th>Age_01</th>\n",
       "      <th>Gender_01</th>\n",
       "    </tr>\n",
       "  </thead>\n",
       "  <tbody>\n",
       "    <tr>\n",
       "      <th>0</th>\n",
       "      <td>1</td>\n",
       "      <td>1</td>\n",
       "      <td>4512</td>\n",
       "      <td>1530</td>\n",
       "      <td>0</td>\n",
       "      <td>0</td>\n",
       "    </tr>\n",
       "    <tr>\n",
       "      <th>1</th>\n",
       "      <td>1</td>\n",
       "      <td>1</td>\n",
       "      <td>3738</td>\n",
       "      <td>1297</td>\n",
       "      <td>0</td>\n",
       "      <td>0</td>\n",
       "    </tr>\n",
       "    <tr>\n",
       "      <th>2</th>\n",
       "      <td>1</td>\n",
       "      <td>1</td>\n",
       "      <td>4261</td>\n",
       "      <td>1335</td>\n",
       "      <td>0</td>\n",
       "      <td>0</td>\n",
       "    </tr>\n",
       "    <tr>\n",
       "      <th>3</th>\n",
       "      <td>1</td>\n",
       "      <td>1</td>\n",
       "      <td>3777</td>\n",
       "      <td>1282</td>\n",
       "      <td>0</td>\n",
       "      <td>0</td>\n",
       "    </tr>\n",
       "    <tr>\n",
       "      <th>4</th>\n",
       "      <td>1</td>\n",
       "      <td>1</td>\n",
       "      <td>4177</td>\n",
       "      <td>1590</td>\n",
       "      <td>0</td>\n",
       "      <td>0</td>\n",
       "    </tr>\n",
       "  </tbody>\n",
       "</table>\n",
       "</div>"
      ],
      "text/plain": [
       "   Gender  Age  Head  Brain  Age_01  Gender_01\n",
       "0       1    1  4512   1530       0          0\n",
       "1       1    1  3738   1297       0          0\n",
       "2       1    1  4261   1335       0          0\n",
       "3       1    1  3777   1282       0          0\n",
       "4       1    1  4177   1590       0          0"
      ]
     },
     "execution_count": 15,
     "metadata": {},
     "output_type": "execute_result"
    }
   ],
   "source": [
    "# Task 5\n",
    "\n",
    "# YOUR CODE HERE\n",
    "# raise NotImplementedError()\n",
    "df['Age_01'] = df['Age'] - 1\n",
    "df['Gender_01'] = df['Gender'] - 1\n",
    "# View the DataFrame\n",
    "print(df.shape)\n",
    "print(df)\n",
    "df.head()"
   ]
  },
  {
   "cell_type": "code",
   "execution_count": null,
   "metadata": {
    "deletable": false,
    "editable": false,
    "id": "EZYTh-kdxKLQ",
    "nbgrader": {
     "cell_type": "code",
     "checksum": "e9af2d4903be0d4eeb6fd0725e4b8ef5",
     "grade": true,
     "grade_id": "cell-84c1602875b4b2fd",
     "locked": true,
     "points": 1,
     "schema_version": 3,
     "solution": false,
     "task": false
    }
   },
   "outputs": [],
   "source": [
    "# Task 4 - Test\n",
    "\n",
    "assert df.shape == (237, 6), 'Did you add two new columns (and only two)?'\n"
   ]
  },
  {
   "cell_type": "markdown",
   "metadata": {
    "id": "DGuhAOmhId9d"
   },
   "source": [
    "**Task 5** - Multiple Regression (adding in \"Age\")\n",
    "\n",
    "We're going to try to improve our model by fitting a model on more than one independent parameter.\n",
    "\n",
    "* Fit a model to Y (brain weight) and X1 and X2 (head size and age group); assign your model to the variable `model_2` (make sure to use `C(Age_01)` for the age variable)\n",
    "\n",
    "*Hint: Enter the model in the format Y ~ X1 + X2*"
   ]
  },
  {
   "cell_type": "code",
   "execution_count": 17,
   "metadata": {
    "colab": {
     "base_uri": "https://localhost:8080/"
    },
    "deletable": false,
    "id": "d6fY5PSPIuOi",
    "nbgrader": {
     "cell_type": "code",
     "checksum": "7242223fa9de0ce7c7ed035b811deaef",
     "grade": false,
     "grade_id": "cell-f10e617763776ff5",
     "locked": false,
     "schema_version": 3,
     "solution": true,
     "task": false
    },
    "outputId": "8f13b8ff-a227-4c22-d2a5-e6390ea45db8"
   },
   "outputs": [
    {
     "name": "stdout",
     "output_type": "stream",
     "text": [
      "                            OLS Regression Results                            \n",
      "==============================================================================\n",
      "Dep. Variable:                  Brain   R-squared:                       0.647\n",
      "Model:                            OLS   Adj. R-squared:                  0.644\n",
      "Method:                 Least Squares   F-statistic:                     214.1\n",
      "Date:                Mon, 25 Oct 2021   Prob (F-statistic):           1.38e-53\n",
      "Time:                        19:31:29   Log-Likelihood:                -1347.8\n",
      "No. Observations:                 237   AIC:                             2702.\n",
      "Df Residuals:                     234   BIC:                             2712.\n",
      "Df Model:                           2                                         \n",
      "Covariance Type:            nonrobust                                         \n",
      "==================================================================================\n",
      "                     coef    std err          t      P>|t|      [0.025      0.975]\n",
      "----------------------------------------------------------------------------------\n",
      "Intercept        347.5505     47.811      7.269      0.000     253.355     441.746\n",
      "C(Age_01)[T.1]   -20.7316      9.410     -2.203      0.029     -39.270      -2.193\n",
      "Head               0.2604      0.013     20.229      0.000       0.235       0.286\n",
      "==============================================================================\n",
      "Omnibus:                        7.943   Durbin-Watson:                   1.889\n",
      "Prob(Omnibus):                  0.019   Jarque-Bera (JB):                8.238\n",
      "Skew:                           0.353   Prob(JB):                       0.0163\n",
      "Kurtosis:                       3.579   Cond. No.                     3.75e+04\n",
      "==============================================================================\n",
      "\n",
      "Notes:\n",
      "[1] Standard Errors assume that the covariance matrix of the errors is correctly specified.\n",
      "[2] The condition number is large, 3.75e+04. This might indicate that there are\n",
      "strong multicollinearity or other numerical problems.\n"
     ]
    }
   ],
   "source": [
    "# Task 5\n",
    "\n",
    "# Model input format: Y ~ X1 + X2*\n",
    "\n",
    "# YOUR CODE HERE\n",
    "# raise NotImplementedError()\n",
    "model_2 = ols('Brain ~ Head + C(Age_01)',data=df).fit()\n",
    "# Print the model summary\n",
    "print(model_2.summary())\n",
    "\n"
   ]
  },
  {
   "cell_type": "code",
   "execution_count": null,
   "metadata": {
    "deletable": false,
    "editable": false,
    "id": "-xNFIMOQxKLQ",
    "nbgrader": {
     "cell_type": "code",
     "checksum": "5221daa4d20938bddd19b4fbffe3bd8f",
     "grade": true,
     "grade_id": "cell-ba2bb42fefe49970",
     "locked": true,
     "points": 1,
     "schema_version": 3,
     "solution": false,
     "task": false
    }
   },
   "outputs": [],
   "source": [
    "# Task 5 - Test\n",
    "# Hidden tests - you will see the results when you submit to Canvas"
   ]
  },
  {
   "cell_type": "markdown",
   "metadata": {
    "id": "Bq5YE7heKoDo"
   },
   "source": [
    "**Task 6** - Statistical significance\n",
    "\n",
    "* Find the p-value for `Age_01` in your model and assign it to the variable `pval_age` (use three decimal places, e.g. 0.123). Your value should be a float.\n",
    "\n",
    "At the alpha = 0.05 level, is age group statistically significantly associated with brain weight after accounting for head size?  Explain your answer in at least one complete sentence.\n",
    "\n",
    "ANSWER: Yes, at the alpha = 0.05, the adj-r-sqared increases from 0.638 to 0.644\n",
    "\n",
    "At the alpha = 0.01 level, is age group statistically significantly associated with brain weight after accounting for head size? Explain your answer in at least one complete sentence.\n",
    "\n",
    "ANSWER: No, we would fail to reject due to p-value being at 0.03 which is higher than the alpha\n"
   ]
  },
  {
   "cell_type": "code",
   "execution_count": 24,
   "metadata": {
    "deletable": false,
    "id": "aDKxhiGCxKLR",
    "nbgrader": {
     "cell_type": "code",
     "checksum": "581b72de56062597038ca9723db06224",
     "grade": false,
     "grade_id": "cell-e76b59ebd9a33e39",
     "locked": false,
     "schema_version": 3,
     "solution": true,
     "task": false
    }
   },
   "outputs": [],
   "source": [
    "# Task 6\n",
    "\n",
    "# YOUR CODE HERE\n",
    "# raise NotImplementedError()\n",
    "# import seaborn as sns\n",
    "# sns.lmplot(x=\"Head\", y=\"Brain\", hue=\"Age_01\", data=df, ci=None)\n",
    "pval_age = 0.029"
   ]
  },
  {
   "cell_type": "code",
   "execution_count": null,
   "metadata": {
    "deletable": false,
    "editable": false,
    "id": "gKQLOjgIxKLS",
    "nbgrader": {
     "cell_type": "code",
     "checksum": "403cce92142fdf87d7773033bc03050d",
     "grade": true,
     "grade_id": "cell-45d090dbd7235338",
     "locked": true,
     "points": 1,
     "schema_version": 3,
     "solution": false,
     "task": false
    }
   },
   "outputs": [],
   "source": [
    "# Task 6 - Test\n",
    "\n",
    "# Hidden tests - you will see the results when you submit to Canvas"
   ]
  },
  {
   "cell_type": "markdown",
   "metadata": {
    "id": "VAdboVOmLsqR"
   },
   "source": [
    "**Task 7** - Adjusted $R^2$\n",
    "\n",
    "What is the adjusted $R^2$ for the model relating head size and age group to brain weight?  \n",
    "\n",
    "* Assign the adjusted $R^2$ value to `adj_R2_new`. This value should be a float.\n",
    "\n",
    "Does adding age group to the model increase the amount of variability in brain weight explained by the model?\n",
    "\n",
    "ANSWER: Yes, very slightly"
   ]
  },
  {
   "cell_type": "code",
   "execution_count": 21,
   "metadata": {
    "colab": {
     "base_uri": "https://localhost:8080/"
    },
    "deletable": false,
    "id": "DhLlb17nxKLS",
    "nbgrader": {
     "cell_type": "code",
     "checksum": "87c9524867994e9e3438ff5c938628cf",
     "grade": false,
     "grade_id": "cell-39e56b2549fd6715",
     "locked": false,
     "schema_version": 3,
     "solution": true,
     "task": false
    },
    "outputId": "76e880bb-5a7a-4dfa-95e5-69557257f14a"
   },
   "outputs": [
    {
     "name": "stdout",
     "output_type": "stream",
     "text": [
      "The adjusted R^2 new is:  0.644\n"
     ]
    }
   ],
   "source": [
    "# Task 7\n",
    "\n",
    "# YOUR CODE HERE\n",
    "# raise NotImplementedError()\n",
    "adj_R2_new = 0.644\n",
    "# Print the adjusted R^2 new value\n",
    "print('The adjusted R^2 new is: ', adj_R2_new)"
   ]
  },
  {
   "cell_type": "code",
   "execution_count": null,
   "metadata": {
    "deletable": false,
    "editable": false,
    "id": "sRON8GI9xKLS",
    "nbgrader": {
     "cell_type": "code",
     "checksum": "ac907b8d86db25b6db1b22b1bbf30c3b",
     "grade": true,
     "grade_id": "cell-1cce579f5ceec835",
     "locked": true,
     "points": 1,
     "schema_version": 3,
     "solution": false,
     "task": false
    }
   },
   "outputs": [],
   "source": [
    "# Task 7 - Test\n",
    "\n",
    "# Hidden tests - you will see the results when you submit to Canvas"
   ]
  },
  {
   "cell_type": "markdown",
   "metadata": {
    "id": "Je3yM5G9Mdkx"
   },
   "source": [
    "**Task 8** - Multiple Regression (adding in Gender)\n",
    "\n",
    "We're going to try another multiple regression to improve our model!\n",
    "\n",
    "* Fit a model to Y (brain weight) and X1 and X2 (head size and gender); assign your model to the variable `model_3` (make sure to use `C(Gender_01)` for the age variable).\n",
    "\n",
    "*Hint: Enter the model in the format Y ~ X1 + X2*"
   ]
  },
  {
   "cell_type": "code",
   "execution_count": 22,
   "metadata": {
    "colab": {
     "base_uri": "https://localhost:8080/"
    },
    "deletable": false,
    "id": "Ii7PVMgJMnNC",
    "nbgrader": {
     "cell_type": "code",
     "checksum": "1ec5cf49f96c26a62fb56604b0bb9d82",
     "grade": false,
     "grade_id": "cell-6e2d7e8b615b59d7",
     "locked": false,
     "schema_version": 3,
     "solution": true,
     "task": false
    },
    "outputId": "ee372b14-4a3b-47cb-9e03-c2b559bc8d02"
   },
   "outputs": [
    {
     "name": "stdout",
     "output_type": "stream",
     "text": [
      "                            OLS Regression Results                            \n",
      "==============================================================================\n",
      "Dep. Variable:                  Brain   R-squared:                       0.643\n",
      "Model:                            OLS   Adj. R-squared:                  0.640\n",
      "Method:                 Least Squares   F-statistic:                     211.0\n",
      "Date:                Mon, 25 Oct 2021   Prob (F-statistic):           4.15e-53\n",
      "Time:                        19:47:59   Log-Likelihood:                -1348.9\n",
      "No. Observations:                 237   AIC:                             2704.\n",
      "Df Residuals:                     234   BIC:                             2714.\n",
      "Df Model:                           2                                         \n",
      "Covariance Type:            nonrobust                                         \n",
      "=====================================================================================\n",
      "                        coef    std err          t      P>|t|      [0.025      0.975]\n",
      "-------------------------------------------------------------------------------------\n",
      "Intercept           378.7139     57.299      6.609      0.000     265.825     491.603\n",
      "C(Gender_01)[T.1]   -17.8615     11.027     -1.620      0.107     -39.586       3.863\n",
      "Head                  0.2509      0.015     16.734      0.000       0.221       0.280\n",
      "==============================================================================\n",
      "Omnibus:                        8.109   Durbin-Watson:                   1.858\n",
      "Prob(Omnibus):                  0.017   Jarque-Bera (JB):                8.403\n",
      "Skew:                           0.360   Prob(JB):                       0.0150\n",
      "Kurtosis:                       3.576   Cond. No.                     4.49e+04\n",
      "==============================================================================\n",
      "\n",
      "Notes:\n",
      "[1] Standard Errors assume that the covariance matrix of the errors is correctly specified.\n",
      "[2] The condition number is large, 4.49e+04. This might indicate that there are\n",
      "strong multicollinearity or other numerical problems.\n"
     ]
    }
   ],
   "source": [
    "# Task 8\n",
    "\n",
    "# Model input format: Y ~ X1 + X2*\n",
    "\n",
    "# YOUR CODE HERE\n",
    "# raise NotImplementedError()\n",
    "model_3 = ols('Brain ~ Head + C(Gender_01)',data=df).fit()\n",
    "\n",
    "# Print the model summary\n",
    "print(model_3.summary())\n"
   ]
  },
  {
   "cell_type": "code",
   "execution_count": null,
   "metadata": {
    "deletable": false,
    "editable": false,
    "id": "ntDct-DqxKLT",
    "nbgrader": {
     "cell_type": "code",
     "checksum": "ee239f960ee2860a7286511017de7770",
     "grade": true,
     "grade_id": "cell-5e7bef722b7fe2ec",
     "locked": true,
     "points": 1,
     "schema_version": 3,
     "solution": false,
     "task": false
    }
   },
   "outputs": [],
   "source": [
    "# Task 8 - Test\n",
    "# Hidden tests - you will see the results when you submit to Canvas"
   ]
  },
  {
   "cell_type": "markdown",
   "metadata": {
    "id": "tYG00tRDM4E9"
   },
   "source": [
    "**Task 9** - Significance (short answer)\n",
    "\n",
    "At the alpha = 0.05 level, is gender statistically significantly associated with brain weight after accounting for head size?  Explain your answer in at least one complete sentence.\n",
    "\n",
    "ANSWER: No, p-value is 0.107, we would fail to reject the null hypthesis"
   ]
  },
  {
   "cell_type": "markdown",
   "metadata": {
    "id": "EmEI47CbC-ld"
   },
   "source": [
    "**Task 10** - Linear model equation (short answer)\n",
    "\n",
    "Write the linear model (insert the coefficients in the correct places) used to model the relationship between head size, age group and predicted brain weight. *Make sure to use the correct model!*\n",
    "\n",
    "EQUATION: $\\hat{y} = \\beta_0 + \\beta_1x$Head + $\\beta_2x$Age_01 = 347.5505 + (0.2604 * Head)  - (20.7316 * Age_01)"
   ]
  },
  {
   "cell_type": "markdown",
   "metadata": {
    "id": "GI170a6-o6hx"
   },
   "source": [
    "**Task 11** - Create a plot!\n",
    "\n",
    "Plot the relationship between head size and brain weight on a scatterplot. Use different color dots to represent older and younger individuals. You can use `matplotlib` or `seaborn`."
   ]
  },
  {
   "cell_type": "code",
   "execution_count": 25,
   "metadata": {
    "colab": {
     "base_uri": "https://localhost:8080/",
     "height": 295
    },
    "deletable": false,
    "id": "LtYcWjOGAXo3",
    "nbgrader": {
     "cell_type": "code",
     "checksum": "8c3b6fa31cc8859c9b3448ff71034169",
     "grade": false,
     "grade_id": "cell-5fe9394388a9edfb",
     "locked": false,
     "schema_version": 3,
     "solution": true,
     "task": false
    },
    "outputId": "fb119b9b-278a-45eb-a5cc-3f9e31a722f8"
   },
   "outputs": [
    {
     "data": {
      "text/plain": [
       "<seaborn.axisgrid.FacetGrid at 0x256d709b6d0>"
      ]
     },
     "execution_count": 25,
     "metadata": {},
     "output_type": "execute_result"
    },
    {
     "data": {
      "image/png": "[encoded data removed]",
      "text/plain": [
       "<Figure size 405x360 with 1 Axes>"
      ]
     },
     "metadata": {
      "needs_background": "light"
     },
     "output_type": "display_data"
    }
   ],
   "source": [
    "# Task 11\n",
    "\n",
    "# YOUR CODE HERE\n",
    "# raise NotImplementedError()\n",
    "import seaborn as sns\n",
    "sns.lmplot(x=\"Head\", y=\"Brain\", hue=\"Age_01\", data=df, ci=None)"
   ]
  },
  {
   "cell_type": "markdown",
   "metadata": {
    "id": "wqv11_e7S7Ib"
   },
   "source": [
    "**Task 12** - Make predictions\n",
    "\n",
    "Estimate the brain weight of a 60-year-old with a head size of 4000 cubic cm. **Make sure to select the correct model you fit above! Look carefully at the model results so you know what order the model coefficients are given in the output.  It is *different* than the order you entered the terms in the model.**  \n",
    "\n",
    "* assign the age group (either a 0 or 1) to the variable `x1` (integer)\n",
    "* assign the head size to the variable `x2` (integer)\n",
    "* assign the intercept to `intercept` (float)\n",
    "* assign the slope parameter for the age to `slope1` (float)\n",
    "* assign the slope parameter for head size  to `slope2` (float)\n",
    "* assign the prediction to the variable `predicted` (float)"
   ]
  },
  {
   "cell_type": "code",
   "execution_count": 28,
   "metadata": {
    "colab": {
     "base_uri": "https://localhost:8080/"
    },
    "deletable": false,
    "id": "Az7aXj-N6sW6",
    "nbgrader": {
     "cell_type": "code",
     "checksum": "e8366107a5a02c1a25272e6393b4567e",
     "grade": false,
     "grade_id": "cell-c6a58b3a206a56d1",
     "locked": false,
     "schema_version": 3,
     "solution": true,
     "task": false
    },
    "outputId": "cfdae560-c34b-4ea5-be67-022cc074db94"
   },
   "outputs": [
    {
     "name": "stdout",
     "output_type": "stream",
     "text": [
      "slope 2: -20.731644634671124\n",
      "The predicted value for brain size is: 1368.57392172206\n"
     ]
    }
   ],
   "source": [
    "# Task 12\n",
    "\n",
    "# YOUR CODE HERE\n",
    "# raise NotImplementedError()\n",
    "x1 = 1\n",
    "x2 = 4000\n",
    "intercept = model_2.params[0]\n",
    "slope1 = model_2.params[1]\n",
    "slope2 = model_2.params[2]\n",
    "# Print out variables to troubleshoot!\n",
    "print('slope 2:', slope1)\n",
    "predicted = intercept + slope1 * x1 + slope2 * x2\n",
    "# View your prediction\n",
    "print('The predicted value for brain size is:', predicted)\n"
   ]
  },
  {
   "cell_type": "code",
   "execution_count": null,
   "metadata": {
    "deletable": false,
    "editable": false,
    "id": "ePZhMoVzxKLV",
    "nbgrader": {
     "cell_type": "code",
     "checksum": "fb123435fe49633b3d46008f52fc6ce1",
     "grade": true,
     "grade_id": "cell-4d1b9dcc5f82390f",
     "locked": true,
     "points": 1,
     "schema_version": 3,
     "solution": false,
     "task": false
    }
   },
   "outputs": [],
   "source": [
    "# Task 12 - Test\n",
    "# Hidden tests - you will see the results when you submit to Canvas"
   ]
  },
  {
   "cell_type": "markdown",
   "metadata": {
    "id": "-rhf7zmX9g3E"
   },
   "source": [
    "**Task 13** - Make another prediction\n",
    "\n",
    "Estimate the brain weight of a 20-year-old with a head size of 3900 cubic cm. Use the same slope and intercept parameters you used above. But - change your `x1` and `x2` values!\n",
    "\n",
    "* change the values for `x1` and `x2` (both are integers)\n",
    "* assign your prediction to the variable `predicted_2` (float)"
   ]
  },
  {
   "cell_type": "code",
   "execution_count": 29,
   "metadata": {
    "colab": {
     "base_uri": "https://localhost:8080/"
    },
    "deletable": false,
    "id": "gX01KjaSQxkF",
    "nbgrader": {
     "cell_type": "code",
     "checksum": "04176d0900f45375d7c92d205887a96f",
     "grade": false,
     "grade_id": "cell-0f16313e839553e8",
     "locked": false,
     "schema_version": 3,
     "solution": true,
     "task": false
    },
    "outputId": "4003c3fa-205c-468d-b2dd-8f34e5430a4d"
   },
   "outputs": [
    {
     "name": "stdout",
     "output_type": "stream",
     "text": [
      "The predicted value for brain size is: 1363.2616897105702\n"
     ]
    }
   ],
   "source": [
    "# Task 13\n",
    "\n",
    "# YOUR CODE HERE\n",
    "# raise NotImplementedError()\n",
    "x1 = 0\n",
    "x2 = 3900\n",
    "predicted_2 = intercept + slope1 * x1 + slope2 * x2\n",
    "\n",
    "# View your prediction\n",
    "print('The predicted value for brain size is:', predicted_2)\n"
   ]
  },
  {
   "cell_type": "code",
   "execution_count": null,
   "metadata": {
    "deletable": false,
    "editable": false,
    "id": "To1R8KhhxKLV",
    "nbgrader": {
     "cell_type": "code",
     "checksum": "98120677d52f1a723a43bdcdb7b21dd7",
     "grade": true,
     "grade_id": "cell-1fdb89f3b3065c29",
     "locked": true,
     "points": 1,
     "schema_version": 3,
     "solution": false,
     "task": false
    }
   },
   "outputs": [],
   "source": [
    "# Task 13 - Test\n",
    "# Hidden tests - you will see the results when you submit to Canvas"
   ]
  },
  {
   "cell_type": "markdown",
   "metadata": {
    "id": "T1TDNIibteov"
   },
   "source": [
    "## Part B\n",
    "\n",
    "### Sleep Data\n",
    "\n",
    "Use the following information to answer the rest of the tasks in this project.\n",
    "\n",
    "Researchers recorded data on sleep duration as well as a set of ecological and constitutional variables  for a selection of mammal species. This data appears in the Sleep.csv dataset. \n",
    "\n",
    "Source: Allison, T. and Cicchetti, D. (1976), \"Sleep in Mammals: Ecological and Constitutional Correlates\",  Science, November 12, vol. 194, pp. 732-734.\n",
    "\n",
    "**Data Dictionary:**\n",
    "\n",
    "| Variable Name |            Description           |                                                                 Details                                                                 |              |   |\n",
    "|:-------------:|:--------------------------------:|:---------------------------------------------------------------------------------------------------------------------------------------:|--------------|---|\n",
    "| Animal        |            Animal name           |                                                            Character [string]                                                           |    |   |\n",
    "| Body          |            Body weight           |                                                               Numeric [kg]                                                              |       |   |\n",
    "| Brain         |           Brain weight           |                                                               Numeric [g]                                                               |  |   |\n",
    "| SWsleep       | Slow wave (“non-dreaming”) sleep | Numeric [hours]                                                                                                                         |              |   |\n",
    "| Parasleep     | Paradoxical (“dreaming”) sleep   | Numeric [hours]                                                                                                                         |              |   |\n",
    "| Totsleep      | Total sleep                      | Numeric [hours]                                                                                                                         |              |   |\n",
    "| Life          | Maximum life expectancy          | Numeric [years]                                                                                                                         |              |   |\n",
    "| Gest          | Gestation time                   | Numeric [days]                                                                                                                          |              |   |\n",
    "| Pred          | Predation index                  | Numeric [1 – 5] 1 = least likely to be preyed upon, 5 = most likely to be preyed upon                                                   |              |   |\n",
    "| Exposure      | Sleep exposure index             | Numeric [1 – 5] 1 = least amount of exposure during sleep (mammal sleeps indoors or in a den), 5 = most amount of exposure during sleep |              |   |\n",
    "| Danger        | Overall danger index             | Numeric [ 1 – 5] 1 = least amount of danger from other animals, 5 = most amount of danger from other animals                            |              |   |\n",
    "\n"
   ]
  },
  {
   "cell_type": "markdown",
   "metadata": {
    "id": "lAGRV2LkuKyw",
    "outputId": "ccabb7fa-9b46-476b-f8e7-f670f7ad3858"
   },
   "source": [
    "**Task 14**\n",
    "\n",
    "Before we can look at the data, we need to load in the data. The URL has been provided.\n",
    "\n",
    "* Load in the CSV file as a DataFrame and assign it to the variable `df_sleep`.\n",
    "* Make sure to view the DataFrame!"
   ]
  },
  {
   "cell_type": "code",
   "execution_count": 30,
   "metadata": {
    "colab": {
     "base_uri": "https://localhost:8080/",
     "height": 204
    },
    "deletable": false,
    "id": "DFlrjGquxKLW",
    "nbgrader": {
     "cell_type": "code",
     "checksum": "4384083bf0047a1d40593ed3c1a1a7bd",
     "grade": false,
     "grade_id": "cell-3a230410ee200f46",
     "locked": false,
     "schema_version": 3,
     "solution": true,
     "task": false
    },
    "outputId": "a59be789-907f-4d85-8b8e-f464c3b635e4"
   },
   "outputs": [
    {
     "data": {
      "text/html": [
       "<div>\n",
       "<style scoped>\n",
       "    .dataframe tbody tr th:only-of-type {\n",
       "        vertical-align: middle;\n",
       "    }\n",
       "\n",
       "    .dataframe tbody tr th {\n",
       "        vertical-align: top;\n",
       "    }\n",
       "\n",
       "    .dataframe thead th {\n",
       "        text-align: right;\n",
       "    }\n",
       "</style>\n",
       "<table border=\"1\" class=\"dataframe\">\n",
       "  <thead>\n",
       "    <tr style=\"text-align: right;\">\n",
       "      <th></th>\n",
       "      <th>Animal</th>\n",
       "      <th>Body</th>\n",
       "      <th>Brain</th>\n",
       "      <th>SWsleep</th>\n",
       "      <th>Parasleep</th>\n",
       "      <th>Totsleep</th>\n",
       "      <th>Life</th>\n",
       "      <th>Gest</th>\n",
       "      <th>Pred</th>\n",
       "      <th>Exposure</th>\n",
       "      <th>Danger</th>\n",
       "    </tr>\n",
       "  </thead>\n",
       "  <tbody>\n",
       "    <tr>\n",
       "      <th>0</th>\n",
       "      <td>African_giant_pouched_rat</td>\n",
       "      <td>1.000</td>\n",
       "      <td>6.6</td>\n",
       "      <td>6.3</td>\n",
       "      <td>2.0</td>\n",
       "      <td>8.3</td>\n",
       "      <td>4.5</td>\n",
       "      <td>42.0</td>\n",
       "      <td>3</td>\n",
       "      <td>1</td>\n",
       "      <td>3</td>\n",
       "    </tr>\n",
       "    <tr>\n",
       "      <th>1</th>\n",
       "      <td>Asian_elephant</td>\n",
       "      <td>2547.000</td>\n",
       "      <td>4603.0</td>\n",
       "      <td>2.1</td>\n",
       "      <td>1.8</td>\n",
       "      <td>3.9</td>\n",
       "      <td>69.0</td>\n",
       "      <td>624.0</td>\n",
       "      <td>3</td>\n",
       "      <td>5</td>\n",
       "      <td>4</td>\n",
       "    </tr>\n",
       "    <tr>\n",
       "      <th>2</th>\n",
       "      <td>Baboon</td>\n",
       "      <td>10.550</td>\n",
       "      <td>179.5</td>\n",
       "      <td>9.1</td>\n",
       "      <td>0.7</td>\n",
       "      <td>9.8</td>\n",
       "      <td>27.0</td>\n",
       "      <td>180.0</td>\n",
       "      <td>4</td>\n",
       "      <td>4</td>\n",
       "      <td>4</td>\n",
       "    </tr>\n",
       "    <tr>\n",
       "      <th>3</th>\n",
       "      <td>Big_brown_bat</td>\n",
       "      <td>0.023</td>\n",
       "      <td>0.3</td>\n",
       "      <td>15.8</td>\n",
       "      <td>3.9</td>\n",
       "      <td>19.7</td>\n",
       "      <td>19.0</td>\n",
       "      <td>35.0</td>\n",
       "      <td>1</td>\n",
       "      <td>1</td>\n",
       "      <td>1</td>\n",
       "    </tr>\n",
       "    <tr>\n",
       "      <th>4</th>\n",
       "      <td>Brazilian_tapir</td>\n",
       "      <td>160.000</td>\n",
       "      <td>169.0</td>\n",
       "      <td>5.2</td>\n",
       "      <td>1.0</td>\n",
       "      <td>6.2</td>\n",
       "      <td>30.4</td>\n",
       "      <td>392.0</td>\n",
       "      <td>4</td>\n",
       "      <td>5</td>\n",
       "      <td>4</td>\n",
       "    </tr>\n",
       "  </tbody>\n",
       "</table>\n",
       "</div>"
      ],
      "text/plain": [
       "                      Animal      Body   Brain  SWsleep  Parasleep  Totsleep  \\\n",
       "0  African_giant_pouched_rat     1.000     6.6      6.3        2.0       8.3   \n",
       "1             Asian_elephant  2547.000  4603.0      2.1        1.8       3.9   \n",
       "2                     Baboon    10.550   179.5      9.1        0.7       9.8   \n",
       "3              Big_brown_bat     0.023     0.3     15.8        3.9      19.7   \n",
       "4            Brazilian_tapir   160.000   169.0      5.2        1.0       6.2   \n",
       "\n",
       "   Life   Gest  Pred  Exposure  Danger  \n",
       "0   4.5   42.0     3         1       3  \n",
       "1  69.0  624.0     3         5       4  \n",
       "2  27.0  180.0     4         4       4  \n",
       "3  19.0   35.0     1         1       1  \n",
       "4  30.4  392.0     4         5       4  "
      ]
     },
     "execution_count": 30,
     "metadata": {},
     "output_type": "execute_result"
    }
   ],
   "source": [
    "# Task 14\n",
    "\n",
    "# Dataset URL - don't delete!\n",
    "data_url_2 = 'https://raw.githubusercontent.com/LambdaSchool/data-science-practice-datasets/main/unit_1/Sleep/Sleep.csv'\n",
    "\n",
    "# YOUR CODE HERE\n",
    "# raise NotImplementedError()\n",
    "df_sleep = pd.read_csv(data_url_2)\n",
    "# Print out your DataFrame\n",
    "df_sleep.head()"
   ]
  },
  {
   "cell_type": "markdown",
   "metadata": {
    "id": "QNcpKKKYfeFj"
   },
   "source": [
    "At the end of the guided project, we'd decided that the best model of dreaming sleep has the two variables gestation time and danger index (Adjusted R-squared about 50%).\n",
    "\n",
    "\n",
    "However, danger index was engineered from both predation index and exposure.  Perhaps one of those features is really more important in predicting dreaming sleep.  Can we improve model fit by replacing danger index with predation index or exposure index?"
   ]
  },
  {
   "cell_type": "markdown",
   "metadata": {
    "id": "XYs1IpYNk8Zw"
   },
   "source": [
    "**Task 15** - Multiple Regression Model\n",
    "\n",
    "Run an OLS model using the log of gestation time and predation index to predict the amount of time spent in dreaming sleep.  Is predation index a better predictor of the amount of time spent in dreaming sleep than danger index?\n",
    "* Fit a model to Y (dreaming sleep) and X1 and X2 (gestational time and predation index); assign your model to the variable `model_sleep1` (make sure to use `C(Pred)` for the predation index variable)\n",
    "* Print the model summary\n",
    "* Examine the adjusted R-squared and compare it to the adjusted R-squared from the model with gestational time and danger index.\n",
    "* Choose the letter of the correct answer from the answer choices listed below and assign that letter to `Answer`.  For example, if your answer is choice B, in the solution block you will type `Answer = 'B'`.\n",
    "\n",
    "\n",
    "Answer choices:\n",
    "\n",
    "**A:** The adjusted r-squared for the model with predation index is greater than the adjusted r-squared for the model with danger index, therefore predation index is a better predictor of dreaming sleep.\n",
    "\n",
    "**B:** The adjusted r-squared for the model with predation index is less than than the adjusted r-squared for the model with danger index, therefore predation index is a better predictor of dreaming sleep.\n",
    "\n",
    "**C:** The adjusted r-squared for the model with predation index is less than than the adjusted r-squared for the model with danger index, therefore predation index is not as good a predictor of dreaming sleep.\n",
    "\n",
    "**D:** The adjusted r-squared for the model with predation index is greater than than the adjusted r-squared for the model with danger index, therefore predation index is not as good a predictor of dreaming sleep."
   ]
  },
  {
   "cell_type": "code",
   "execution_count": 38,
   "metadata": {
    "colab": {
     "base_uri": "https://localhost:8080/"
    },
    "deletable": false,
    "id": "t9xM-7Z3xKLY",
    "nbgrader": {
     "cell_type": "code",
     "checksum": "7bfcfe30bf785210f981163406005188",
     "grade": false,
     "grade_id": "cell-1c00b428d5be8030",
     "locked": false,
     "schema_version": 3,
     "solution": true,
     "task": false
    },
    "outputId": "280b3e86-c344-4655-ae8b-d07d6a609cb5"
   },
   "outputs": [
    {
     "name": "stdout",
     "output_type": "stream",
     "text": [
      "                            OLS Regression Results                            \n",
      "==============================================================================\n",
      "Dep. Variable:              Parasleep   R-squared:                       0.454\n",
      "Model:                            OLS   Adj. R-squared:                  0.378\n",
      "Method:                 Least Squares   F-statistic:                     5.983\n",
      "Date:                Mon, 25 Oct 2021   Prob (F-statistic):           0.000398\n",
      "Time:                        20:21:20   Log-Likelihood:                -60.182\n",
      "No. Observations:                  42   AIC:                             132.4\n",
      "Df Residuals:                      36   BIC:                             142.8\n",
      "Df Model:                           5                                         \n",
      "Covariance Type:            nonrobust                                         \n",
      "================================================================================\n",
      "                   coef    std err          t      P>|t|      [0.025      0.975]\n",
      "--------------------------------------------------------------------------------\n",
      "Intercept        5.4498      0.840      6.489      0.000       3.746       7.153\n",
      "C(Pred)[T.2]    -0.0895      0.515     -0.174      0.863      -1.135       0.956\n",
      "C(Pred)[T.3]    -0.5359      0.567     -0.944      0.351      -1.687       0.615\n",
      "C(Pred)[T.4]    -1.0337      0.568     -1.821      0.077      -2.185       0.117\n",
      "C(Pred)[T.5]    -1.1972      0.532     -2.249      0.031      -2.277      -0.118\n",
      "log_gest        -0.6877      0.165     -4.159      0.000      -1.023      -0.352\n",
      "==============================================================================\n",
      "Omnibus:                        5.334   Durbin-Watson:                   1.927\n",
      "Prob(Omnibus):                  0.069   Jarque-Bera (JB):                6.290\n",
      "Skew:                           0.188   Prob(JB):                       0.0431\n",
      "Kurtosis:                       4.858   Cond. No.                         28.2\n",
      "==============================================================================\n",
      "\n",
      "Notes:\n",
      "[1] Standard Errors assume that the covariance matrix of the errors is correctly specified.\n"
     ]
    }
   ],
   "source": [
    "# Task 15\n",
    "# complete the log of gestational time - DO NOT DELETE\n",
    "\n",
    "import numpy as np\n",
    "df_sleep['log_gest'] = np.log(df_sleep['Gest'])\n",
    "# print(df_sleep.head())\n",
    "model_sleep1 = ols('Parasleep ~ log_gest + C(Pred)',data=df_sleep).fit()\n",
    "# YOUR CODE HERE\n",
    "# raise NotImplementedError()\n",
    "print(model_sleep1.summary())\n",
    "Answer = 'C'"
   ]
  },
  {
   "cell_type": "code",
   "execution_count": null,
   "metadata": {
    "deletable": false,
    "editable": false,
    "id": "hvrMEfiPEUlx",
    "nbgrader": {
     "cell_type": "code",
     "checksum": "889a2b5c94b0f38b5c88601332b6cadf",
     "grade": true,
     "grade_id": "cell-1161a4fd34666d28",
     "locked": true,
     "points": 1,
     "schema_version": 3,
     "solution": false,
     "task": false
    }
   },
   "outputs": [],
   "source": [
    "# Task 15 - Test\n",
    "# Hidden tests - you will see the results when you submit to Canvas"
   ]
  },
  {
   "cell_type": "markdown",
   "metadata": {
    "id": "bce2Pv8RE3u2"
   },
   "source": [
    "**Task 16** - Multiple Regression Model\n",
    "\n",
    "Run an OLS model using the log of gestation time and exposure index to predict the amount of time spent in dreaming sleep.  Is exposure index a better predictor of amount of time spent in dreaming sleep than danger index?\n",
    "* Fit a model to Y (dreaming sleep) and X1 and X2 (gestational time and exposure index); assign your model to the variable `model_sleep2` (make sure to use `C(Exposure)` for the exposure index variable)\n",
    "* Print the model summary\n",
    "* Examine the adjusted R-quared and compare it to the adjusted R-squared from the model with gestational time and danger index.\n",
    "* Choose the letter of the correct answer from the answer choices listed below and assign that letter to `Answer`.  For example, if your answer is choice B, in the solution block you will type `Answer = 'B'`.\n",
    "\n",
    "\n",
    "Answer choices:\n",
    "\n",
    "**A:** The adjusted r-squared for the model with exposure index is greater than the adjusted r-squared for the model with danger index, therefore exposure index is a better predictor of dreaming sleep.\n",
    "\n",
    "**B:** The adjusted r-squared for the model with exposure index is less than than the adjusted r-squared for the model with danger index, therefore exposure index is a better predictor of dreaming sleep.\n",
    "\n",
    "**C:** The adjusted r-squared for the model with exposure index is less than than the adjusted r-squared for the model with danger index, therefore exposure index is not as good a predictor of dreaming sleep.\n",
    "\n",
    "**D:** The adjusted r-squared for the model with exposure index is greater than than the adjusted r-squared for the model with danger index, therefore exposure index is not as good a predictor of dreaming sleep."
   ]
  },
  {
   "cell_type": "code",
   "execution_count": 37,
   "metadata": {
    "deletable": false,
    "id": "2gWcjeocGVpR",
    "nbgrader": {
     "cell_type": "code",
     "checksum": "ae7d1504ab176727a49fd1fdd1e05675",
     "grade": false,
     "grade_id": "cell-2e14151d6dcd21d2",
     "locked": false,
     "schema_version": 3,
     "solution": true,
     "task": false
    },
    "outputId": "6868645d-ff39-46fc-d81e-a9bbf161a029"
   },
   "outputs": [
    {
     "name": "stdout",
     "output_type": "stream",
     "text": [
      "                            OLS Regression Results                            \n",
      "==============================================================================\n",
      "Dep. Variable:              Parasleep   R-squared:                       0.389\n",
      "Model:                            OLS   Adj. R-squared:                  0.304\n",
      "Method:                 Least Squares   F-statistic:                     4.583\n",
      "Date:                Mon, 25 Oct 2021   Prob (F-statistic):            0.00245\n",
      "Time:                        20:21:15   Log-Likelihood:                -62.540\n",
      "No. Observations:                  42   AIC:                             137.1\n",
      "Df Residuals:                      36   BIC:                             147.5\n",
      "Df Model:                           5                                         \n",
      "Covariance Type:            nonrobust                                         \n",
      "====================================================================================\n",
      "                       coef    std err          t      P>|t|      [0.025      0.975]\n",
      "------------------------------------------------------------------------------------\n",
      "Intercept            4.6239      0.848      5.455      0.000       2.905       6.343\n",
      "C(Exposure)[T.2]    -0.6132      0.487     -1.259      0.216      -1.601       0.375\n",
      "C(Exposure)[T.3]    -0.9614      0.702     -1.369      0.180      -2.386       0.463\n",
      "C(Exposure)[T.4]    -0.8153      0.690     -1.182      0.245      -2.214       0.583\n",
      "C(Exposure)[T.5]    -0.9677      0.617     -1.570      0.125      -2.218       0.283\n",
      "log_gest            -0.5171      0.214     -2.418      0.021      -0.951      -0.083\n",
      "==============================================================================\n",
      "Omnibus:                        7.922   Durbin-Watson:                   1.960\n",
      "Prob(Omnibus):                  0.019   Jarque-Bera (JB):                6.895\n",
      "Skew:                           0.794   Prob(JB):                       0.0318\n",
      "Kurtosis:                       4.191   Cond. No.                         27.0\n",
      "==============================================================================\n",
      "\n",
      "Notes:\n",
      "[1] Standard Errors assume that the covariance matrix of the errors is correctly specified.\n"
     ]
    }
   ],
   "source": [
    "# Task 16\n",
    "\n",
    "# YOUR CODE HERE\n",
    "# raise NotImplementedError()\n",
    "model_sleep2 = ols('Parasleep ~ log_gest + C(Exposure)', data=df_sleep).fit()\n",
    "print(model_sleep2.summary())\n",
    "Answer = 'C'"
   ]
  },
  {
   "cell_type": "code",
   "execution_count": null,
   "metadata": {
    "deletable": false,
    "editable": false,
    "id": "Ehw7vT-CGgZM",
    "nbgrader": {
     "cell_type": "code",
     "checksum": "b9a500062ca2654deb07652038189619",
     "grade": true,
     "grade_id": "cell-7636eb3cff27dfd9",
     "locked": true,
     "points": 1,
     "schema_version": 3,
     "solution": false,
     "task": false
    }
   },
   "outputs": [],
   "source": [
    "# Task 16 - Test\n",
    "# Hidden tests - you will see the results when you submit to Canvas"
   ]
  },
  {
   "cell_type": "code",
   "execution_count": 39,
   "metadata": {},
   "outputs": [
    {
     "name": "stdout",
     "output_type": "stream",
     "text": [
      "                            OLS Regression Results                            \n",
      "==============================================================================\n",
      "Dep. Variable:              Parasleep   R-squared:                       0.557\n",
      "Model:                            OLS   Adj. R-squared:                  0.496\n",
      "Method:                 Least Squares   F-statistic:                     9.071\n",
      "Date:                Mon, 25 Oct 2021   Prob (F-statistic):           1.19e-05\n",
      "Time:                        20:22:12   Log-Likelihood:                -55.763\n",
      "No. Observations:                  42   AIC:                             123.5\n",
      "Df Residuals:                      36   BIC:                             134.0\n",
      "Df Model:                           5                                         \n",
      "Covariance Type:            nonrobust                                         \n",
      "==================================================================================\n",
      "                     coef    std err          t      P>|t|      [0.025      0.975]\n",
      "----------------------------------------------------------------------------------\n",
      "Intercept          5.8263      0.731      7.970      0.000       4.344       7.309\n",
      "C(Danger)[T.2]    -1.2319      0.431     -2.858      0.007      -2.106      -0.358\n",
      "C(Danger)[T.3]    -1.5368      0.479     -3.208      0.003      -2.508      -0.565\n",
      "C(Danger)[T.4]    -1.3989      0.461     -3.032      0.004      -2.334      -0.463\n",
      "C(Danger)[T.5]    -1.8772      0.547     -3.432      0.002      -2.987      -0.768\n",
      "log_gest          -0.6523      0.160     -4.082      0.000      -0.976      -0.328\n",
      "==============================================================================\n",
      "Omnibus:                        2.732   Durbin-Watson:                   2.201\n",
      "Prob(Omnibus):                  0.255   Jarque-Bera (JB):                1.703\n",
      "Skew:                           0.268   Prob(JB):                        0.427\n",
      "Kurtosis:                       3.828   Cond. No.                         24.5\n",
      "==============================================================================\n",
      "\n",
      "Notes:\n",
      "[1] Standard Errors assume that the covariance matrix of the errors is correctly specified.\n"
     ]
    }
   ],
   "source": [
    "model_sleep3 = ols('Parasleep ~ log_gest + C(Danger)', data=df_sleep).fit()\n",
    "print(model_sleep3.summary())"
   ]
  }
 ],
 "metadata": {
  "colab": {
   "collapsed_sections": [],
   "name": "LS_DS_133_Multiple_Regression_Assignment_AG.ipynb",
   "provenance": []
  },
  "kernelspec": {
   "display_name": "Python 3 (ipykernel)",
   "language": "python",
   "name": "python3"
  },
  "language_info": {
   "codemirror_mode": {
    "name": "ipython",
    "version": 3
   },
   "file_extension": ".py",
   "mimetype": "text/x-python",
   "name": "python",
   "nbconvert_exporter": "python",
   "pygments_lexer": "ipython3",
   "version": "3.9.7"
  }
 },
 "nbformat": 4,
 "nbformat_minor": 1
}
