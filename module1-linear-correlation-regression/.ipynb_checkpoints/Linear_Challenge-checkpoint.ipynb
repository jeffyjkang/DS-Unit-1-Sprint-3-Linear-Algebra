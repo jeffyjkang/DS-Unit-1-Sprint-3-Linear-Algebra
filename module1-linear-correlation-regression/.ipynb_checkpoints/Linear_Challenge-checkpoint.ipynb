{
 "cells": [
  {
   "cell_type": "markdown",
   "id": "88c836af",
   "metadata": {},
   "source": [
    "### Challenge:\n",
    "\n",
    "Using the dataset for [Cancer Incidence Rate](https://data.world/nrippner/ols-regression-challenge) (Also included in this repo):\n",
    " - Find the three features that have the highest positive Pearson correlation values with your selected target variable.\n",
    " - Determine the linear coefficients and the intercepts for each of the three features you selected. \n"
   ]
  },
  {
   "cell_type": "code",
   "execution_count": 2,
   "id": "ff2eb3ca",
   "metadata": {},
   "outputs": [],
   "source": [
    "import pandas as pd \n",
    "\n",
    "df = pd.read_csv('data/cancer_reg.csv')"
   ]
  },
  {
   "cell_type": "code",
   "execution_count": 3,
   "id": "d94f6cfa",
   "metadata": {},
   "outputs": [],
   "source": [
    "    \n"
   ]
  },
  {
   "cell_type": "code",
   "execution_count": 4,
   "id": "80303bc4",
   "metadata": {},
   "outputs": [
    {
     "data": {
      "text/plain": [
       "Index(['avgAnnCount', 'avgDeathsPerYear', 'TARGET_deathRate', 'incidenceRate',\n",
       "       'medIncome', 'popEst2015', 'povertyPercent', 'studyPerCap', 'binnedInc',\n",
       "       'MedianAge', 'MedianAgeMale', 'MedianAgeFemale', 'Geography',\n",
       "       'AvgHouseholdSize', 'PercentMarried', 'PctNoHS18_24', 'PctHS18_24',\n",
       "       'PctSomeCol18_24', 'PctBachDeg18_24', 'PctHS25_Over',\n",
       "       'PctBachDeg25_Over', 'PctEmployed16_Over', 'PctUnemployed16_Over',\n",
       "       'PctPrivateCoverage', 'PctPrivateCoverageAlone', 'PctEmpPrivCoverage',\n",
       "       'PctPublicCoverage', 'PctPublicCoverageAlone', 'PctWhite', 'PctBlack',\n",
       "       'PctAsian', 'PctOtherRace', 'PctMarriedHouseholds', 'BirthRate'],\n",
       "      dtype='object')"
      ]
     },
     "execution_count": 4,
     "metadata": {},
     "output_type": "execute_result"
    }
   ],
   "source": [
    "df.columns"
   ]
  },
  {
   "cell_type": "code",
   "execution_count": null,
   "id": "2bf2a0af",
   "metadata": {},
   "outputs": [],
   "source": []
  }
 ],
 "metadata": {
  "kernelspec": {
   "display_name": "Python 3 (ipykernel)",
   "language": "python",
   "name": "python3"
  },
  "language_info": {
   "codemirror_mode": {
    "name": "ipython",
    "version": 3
   },
   "file_extension": ".py",
   "mimetype": "text/x-python",
   "name": "python",
   "nbconvert_exporter": "python",
   "pygments_lexer": "ipython3",
   "version": "3.9.7"
  }
 },
 "nbformat": 4,
 "nbformat_minor": 5
}
