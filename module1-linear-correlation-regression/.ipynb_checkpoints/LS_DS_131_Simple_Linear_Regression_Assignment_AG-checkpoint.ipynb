{
 "cells": [
  {
   "cell_type": "markdown",
   "metadata": {},
   "source": [
    "## Autograded Notebook (Canvas & CodeGrade)\n",
    "\n",
    "This notebook will be automatically graded. It is designed to test your answers and award points for the correct answers. Following the instructions for each Task carefully.\n",
    "\n",
    "### Instructions\n",
    "\n",
    "* **Download this notebook** as you would any other ipynb file\n",
    "* **Upload** to Google Colab or work locally (if you have that set-up)\n",
    "* **Delete `raise NotImplementedError()`**\n",
    "* Write your code in the `# YOUR CODE HERE` space\n",
    "* **Execute** the Test cells that contain `assert` statements - these help you check your work (others contain hidden tests that will be checked when you submit through Canvas)\n",
    "* **Save** your notebook when you are finished\n",
    "* **Download** as a `ipynb` file (if working in Colab)\n",
    "* **Upload** your complete notebook to Canvas (there will be additional instructions in Slack and/or Canvas)"
   ]
  },
  {
   "cell_type": "markdown",
   "metadata": {
    "deletable": false,
    "editable": false,
    "id": "RQw2GTc8oDRw",
    "nbgrader": {
     "cell_type": "markdown",
     "checksum": "18d91ace74c3b8631329ae469c03bb84",
     "grade": false,
     "grade_id": "cell-de0b7ec24e1d742c",
     "locked": true,
     "schema_version": 3,
     "solution": false,
     "task": false
    }
   },
   "source": [
    "# Lambda School Data Science - Unit 1 Sprint 3 Module 1\n",
    "\n",
    "---\n",
    "\n",
    "## Module Project: Simple Linear Regression\n",
    "\n",
    "\n",
    "### Learning Objectives \n",
    "\n",
    "- identify the independent and dependent variables in a relationship (also known as features and target, and explanatory and response variables)\n",
    "- identify linear and nonlinear relationships from a scatterplot\n",
    "- calculate and interpret linear correlation\n",
    "- calculate and interpret the slope and intercept of a simple linear regression model\n",
    "- predict a response from a simple linear regression model\n",
    "- calculate and interpret a residual\n",
    "\n",
    "### Total notebook points: 14"
   ]
  },
  {
   "cell_type": "markdown",
   "metadata": {
    "id": "MHWnltybtm8_"
   },
   "source": [
    "## Part A\n",
    "\n",
    "## Introduction\n",
    "\n",
    "### Is head size related to brain weight in healthy adult humans?\n",
    "\n",
    "The `Brainhead.csv` dataset provides information on 237 individuals who were subject to post-mortem examination at the Middlesex Hospital in London around the turn of the 20th century. Study authors used cadavers to see if a relationship between brain weight and other more easily measured physiological characteristics such as age, sex, and head size could be determined. The end goal was to develop a way to estimate a person’s brain size while they were still alive (as the living aren’t keen on having their brains taken out and weighed). \n",
    "\n",
    "**We wish to determine if there is a linear relationship between head size and brain weight in healthy human adults.**\n",
    "\n",
    "(Source: R.J. Gladstone (1905). \"A Study of the Relations of the Brain to the Size of the Head\", Biometrika, Vol. 4, pp105-123.)\n",
    "\n",
    "Use the above information to complete Tasks 1 - 13"
   ]
  },
  {
   "cell_type": "markdown",
   "metadata": {
    "id": "aH4vutaHSS0o"
   },
   "source": [
    "**Task 1** - Load the data\n",
    "\n",
    "As we usually begin, let's load the data! The URL has been provided.\n",
    "\n",
    "* load your CSV file into a DataFrame named `df`"
   ]
  },
  {
   "cell_type": "code",
   "execution_count": 2,
   "metadata": {
    "colab": {
     "base_uri": "https://localhost:8080/",
     "height": 204
    },
    "deletable": false,
    "id": "sJegaDmRn0a6",
    "nbgrader": {
     "cell_type": "code",
     "checksum": "c479558369906cc550efa3d531d99b0e",
     "grade": false,
     "grade_id": "cell-f56f45d558982ac9",
     "locked": false,
     "schema_version": 3,
     "solution": true,
     "task": false
    },
    "outputId": "6c066002-e0de-4862-d360-8fc53206bcdc"
   },
   "outputs": [
    {
     "name": "stdout",
     "output_type": "stream",
     "text": [
      "<class 'pandas.core.frame.DataFrame'>\n",
      "RangeIndex: 237 entries, 0 to 236\n",
      "Data columns (total 4 columns):\n",
      " #   Column  Non-Null Count  Dtype\n",
      "---  ------  --------------  -----\n",
      " 0   Gender  237 non-null    int64\n",
      " 1   Age     237 non-null    int64\n",
      " 2   Head    237 non-null    int64\n",
      " 3   Brain   237 non-null    int64\n",
      "dtypes: int64(4)\n",
      "memory usage: 7.5 KB\n",
      "None\n"
     ]
    },
    {
     "data": {
      "text/html": [
       "<div>\n",
       "<style scoped>\n",
       "    .dataframe tbody tr th:only-of-type {\n",
       "        vertical-align: middle;\n",
       "    }\n",
       "\n",
       "    .dataframe tbody tr th {\n",
       "        vertical-align: top;\n",
       "    }\n",
       "\n",
       "    .dataframe thead th {\n",
       "        text-align: right;\n",
       "    }\n",
       "</style>\n",
       "<table border=\"1\" class=\"dataframe\">\n",
       "  <thead>\n",
       "    <tr style=\"text-align: right;\">\n",
       "      <th></th>\n",
       "      <th>Gender</th>\n",
       "      <th>Age</th>\n",
       "      <th>Head</th>\n",
       "      <th>Brain</th>\n",
       "    </tr>\n",
       "  </thead>\n",
       "  <tbody>\n",
       "    <tr>\n",
       "      <th>0</th>\n",
       "      <td>1</td>\n",
       "      <td>1</td>\n",
       "      <td>4512</td>\n",
       "      <td>1530</td>\n",
       "    </tr>\n",
       "    <tr>\n",
       "      <th>1</th>\n",
       "      <td>1</td>\n",
       "      <td>1</td>\n",
       "      <td>3738</td>\n",
       "      <td>1297</td>\n",
       "    </tr>\n",
       "    <tr>\n",
       "      <th>2</th>\n",
       "      <td>1</td>\n",
       "      <td>1</td>\n",
       "      <td>4261</td>\n",
       "      <td>1335</td>\n",
       "    </tr>\n",
       "    <tr>\n",
       "      <th>3</th>\n",
       "      <td>1</td>\n",
       "      <td>1</td>\n",
       "      <td>3777</td>\n",
       "      <td>1282</td>\n",
       "    </tr>\n",
       "    <tr>\n",
       "      <th>4</th>\n",
       "      <td>1</td>\n",
       "      <td>1</td>\n",
       "      <td>4177</td>\n",
       "      <td>1590</td>\n",
       "    </tr>\n",
       "  </tbody>\n",
       "</table>\n",
       "</div>"
      ],
      "text/plain": [
       "   Gender  Age  Head  Brain\n",
       "0       1    1  4512   1530\n",
       "1       1    1  3738   1297\n",
       "2       1    1  4261   1335\n",
       "3       1    1  3777   1282\n",
       "4       1    1  4177   1590"
      ]
     },
     "execution_count": 2,
     "metadata": {},
     "output_type": "execute_result"
    }
   ],
   "source": [
    "# Task 1\n",
    "\n",
    "# Imports\n",
    "import pandas as pd\n",
    "import numpy as np\n",
    "\n",
    "data_url = 'https://raw.githubusercontent.com/LambdaSchool/data-science-practice-datasets/main/unit_1/Brainhead/Brainhead.csv'\n",
    "\n",
    "# YOUR CODE HERE\n",
    "df = pd.read_csv(data_url)\n",
    "# print(df.info())\n",
    "# Print out your DataFrame\n",
    "df.head()"
   ]
  },
  {
   "cell_type": "markdown",
   "metadata": {
    "deletable": false,
    "editable": false,
    "id": "Xa940Q03SS0q",
    "nbgrader": {
     "cell_type": "markdown",
     "checksum": "5341faf9877c24ef94beb0e200d4ab2c",
     "grade": false,
     "grade_id": "cell-2754449cf4111e17",
     "locked": true,
     "schema_version": 3,
     "solution": false,
     "task": false
    }
   },
   "source": [
    "**Task 1 - Test**"
   ]
  },
  {
   "cell_type": "code",
   "execution_count": null,
   "metadata": {
    "deletable": false,
    "editable": false,
    "id": "EeoSY7pfSS0q",
    "nbgrader": {
     "cell_type": "code",
     "checksum": "22a0ec95c1e64fb630d813ebfd46128b",
     "grade": true,
     "grade_id": "cell-a168cbc0826de9db",
     "locked": true,
     "points": 1,
     "schema_version": 3,
     "solution": false,
     "task": false
    }
   },
   "outputs": [],
   "source": [
    "# Task 1 - Test\n",
    "\n",
    "assert isinstance(df, pd.DataFrame), 'Have you created a DataFrame named `df`?'\n",
    "assert len(df) == 237\n"
   ]
  },
  {
   "cell_type": "markdown",
   "metadata": {
    "id": "UygPGJ5Iq4zZ"
   },
   "source": [
    "**Task 2**\n",
    "\n",
    "The two variables we are interested in - for now - are \n",
    "\n",
    "* `Brain` - the brain weight in g\n",
    "* `Head` - the head size in cubic cm\n",
    "\n",
    "If we wish to predict brain weight from head size, which variable is the **independent variable** (also called the feature, explanatory, or x variable) and which variable is the **dependent variable** (also called the target, response or y variable)?\n",
    "\n",
    "Using the DataFrame `df` you loaded above assign columns to the independent and dependent variables\n",
    "\n",
    "* Assign the DataFrame column of the independent variable to `ind_x`\n",
    "* Assign the DataFrame column of dependent variable to `dep_y`"
   ]
  },
  {
   "cell_type": "code",
   "execution_count": 10,
   "metadata": {
    "deletable": false,
    "id": "WHq7LXeASS0r",
    "nbgrader": {
     "cell_type": "code",
     "checksum": "7664a78fd5bbdb8f8273dcc941da406d",
     "grade": false,
     "grade_id": "cell-7ec1c137b28cf882",
     "locked": false,
     "schema_version": 3,
     "solution": true,
     "task": false
    }
   },
   "outputs": [],
   "source": [
    "# Task 2\n",
    "\n",
    "# YOUR CODE HERE\n",
    "# raise NotImplementedError()\n",
    "ind_x = df['Head']\n",
    "dep_y = df['Brain']"
   ]
  },
  {
   "cell_type": "markdown",
   "metadata": {
    "id": "Nqy2hDgXSS0r"
   },
   "source": [
    "**Task 2 - Test**"
   ]
  },
  {
   "cell_type": "code",
   "execution_count": null,
   "metadata": {
    "deletable": false,
    "editable": false,
    "id": "3IOn-TcxSS0r",
    "nbgrader": {
     "cell_type": "code",
     "checksum": "336f7b141797be4ade6db0acc52f258d",
     "grade": true,
     "grade_id": "cell-631ebe25bd655d2f",
     "locked": true,
     "points": 1,
     "schema_version": 3,
     "solution": false,
     "task": false
    }
   },
   "outputs": [],
   "source": [
    "# Task 2 - Test\n",
    "# Hidden tests - you will see the results when you submit to Canvas"
   ]
  },
  {
   "cell_type": "markdown",
   "metadata": {
    "id": "p-dC58hMvRYt"
   },
   "source": [
    "**Task 3** - Create a plot\n",
    "\n",
    "This task will not be autograded - but it is part of the project!\n",
    "\n",
    "Create a scatterplot showing the relationship between brain weight and head size.  Make sure to plot the correct variable on the correct axis and label your axes.\n",
    "\n",
    "* Import your plotting library\n",
    "* Plot your x- and y-variables on a scatter plot\n",
    "* Label the axes\n",
    "* Give your plot a title!"
   ]
  },
  {
   "cell_type": "code",
   "execution_count": 11,
   "metadata": {
    "colab": {
     "base_uri": "https://localhost:8080/",
     "height": 295
    },
    "deletable": false,
    "id": "sVZOz0j8xLb4",
    "nbgrader": {
     "cell_type": "code",
     "checksum": "3ade2e63e95a1cfb3871b903290756b7",
     "grade": false,
     "grade_id": "cell-e12fa4ed788aaf45",
     "locked": false,
     "schema_version": 3,
     "solution": true,
     "task": false
    },
    "outputId": "da929607-e71f-42a9-9654-3d829ea0c24f"
   },
   "outputs": [
    {
     "data": {
      "image/png": "[encoded data removed]",
      "text/plain": [
       "<Figure size 432x288 with 1 Axes>"
      ]
     },
     "metadata": {
      "needs_background": "light"
     },
     "output_type": "display_data"
    }
   ],
   "source": [
    "# Task 3\n",
    "# (NOT autograded but fill in your code!)\n",
    "import matplotlib.pyplot as plt\n",
    "# YOUR CODE HERE\n",
    "# raise NotImplementedError()\n",
    "plt.scatter(ind_x,dep_y)\n",
    "plt.xlabel('Head size in cubic cm')\n",
    "plt.ylabel('Brain weight in g')\n",
    "plt.title('Relationship of head size and brain weight')\n",
    "plt.show()"
   ]
  },
  {
   "cell_type": "markdown",
   "metadata": {
    "id": "nusDTdXxOyUB"
   },
   "source": [
    "**Task 4** Describe your plot\n",
    "\n",
    "Select the correct description of the strength and direction of the relationship between the independent and dependent variables shown in the plot you created in Task 3. Specify your answer in the next code block using `Answer = `.  For example, if the correct answer is choice B, you'll type `Answer = 'B'`.\n",
    "\n",
    "A: There appears to be a negative linear relationship between the independent and dependent variables.\n",
    "\n",
    "B: There appears to be a non-linear relationship between the independent and dependent variables.\n",
    "\n",
    "C: There appears to be no linear relationship between the independent and dependent variables.\n",
    "\n",
    "D: There appears to be a positive linear relationship between the independent and dependent variables.\n"
   ]
  },
  {
   "cell_type": "code",
   "execution_count": 9,
   "metadata": {
    "deletable": false,
    "id": "d5n9MhFFOyUN",
    "nbgrader": {
     "cell_type": "code",
     "checksum": "840ad9c9d7150bddf31bc4044f84cea0",
     "grade": false,
     "grade_id": "cell-cc8d0ae0969654bf",
     "locked": false,
     "schema_version": 3,
     "solution": true,
     "task": false
    }
   },
   "outputs": [],
   "source": [
    "# Task 4\n",
    "\n",
    "# YOUR CODE HERE\n",
    "# raise NotImplementedError()\n",
    "Answer = 'D'"
   ]
  },
  {
   "cell_type": "markdown",
   "metadata": {
    "id": "DWAMbt2VOyUN"
   },
   "source": [
    "**Task 4 Test**"
   ]
  },
  {
   "cell_type": "code",
   "execution_count": null,
   "metadata": {
    "deletable": false,
    "editable": false,
    "id": "P872bHxJOyUO",
    "nbgrader": {
     "cell_type": "code",
     "checksum": "6fa3e36df5933c4210ce08a948a2e3b9",
     "grade": true,
     "grade_id": "cell-3970fbb1a3eaefb5",
     "locked": true,
     "points": 1,
     "schema_version": 3,
     "solution": false,
     "task": false
    }
   },
   "outputs": [],
   "source": [
    "# Task 4 - Test\n",
    "# Hidden tests - you will see the results when you submit to Canvas"
   ]
  },
  {
   "cell_type": "markdown",
   "metadata": {
    "id": "q9zVxcOPwU4Z"
   },
   "source": [
    "**Task 5** - Missing data\n",
    "\n",
    "Now, let's determine if there is any missing data in the dataset. If there are null values, drop the row that contains a missing value(s).\n",
    "\n",
    "* Check for missing/null values and assign the sum to `num_null` - the result should be the sum of **all** the null values and a **single integer** (*Hint: you will compute the sum of a sum*)\n",
    "* If there are null values, drop them in place (your DataFrame should still be (`df`)"
   ]
  },
  {
   "cell_type": "code",
   "execution_count": 15,
   "metadata": {
    "deletable": false,
    "id": "ebhykD7aSS0t",
    "nbgrader": {
     "cell_type": "code",
     "checksum": "291449e6f1b4c13b40c8510e9f1fff2a",
     "grade": false,
     "grade_id": "cell-be6f6047329c7d29",
     "locked": false,
     "schema_version": 3,
     "solution": true,
     "task": false
    }
   },
   "outputs": [],
   "source": [
    "# Task 5\n",
    "\n",
    "# YOUR CODE HERE\n",
    "# raise NotImplementedError()\n",
    "num_null = df.isnull().sum().sum()"
   ]
  },
  {
   "cell_type": "markdown",
   "metadata": {
    "id": "hiQKoRx3SS0t"
   },
   "source": [
    "**Task 5 - Test**"
   ]
  },
  {
   "cell_type": "code",
   "execution_count": null,
   "metadata": {
    "deletable": false,
    "editable": false,
    "id": "wO9cpgzuSS0t",
    "nbgrader": {
     "cell_type": "code",
     "checksum": "4a7ecb68177d9cc01b7497b93659eb8d",
     "grade": true,
     "grade_id": "cell-701f63265ccd9bb8",
     "locked": true,
     "points": 1,
     "schema_version": 3,
     "solution": false,
     "task": false
    }
   },
   "outputs": [],
   "source": [
    "# Task 5 - Test\n",
    "# Hidden tests - you will see the results when you submit to Canvas"
   ]
  },
  {
   "cell_type": "markdown",
   "metadata": {
    "id": "5ZeOv8ELAy8u"
   },
   "source": [
    "**Task 6** - Correlation coefficient\n",
    "\n",
    "Now that we've explored our data through a plot and checked for null values, we can move on to some calculations. First, we're going to calculate and interpret the correlation coefficient for the relationship between *head size* and *brain weight*.\n",
    "\n",
    "* Import import scipy.stats as st\n",
    "* Calculate the correlation coefficient and assign it to the variable `r`. Remember that the output of `st.pearsonr()` is *two* values, the correlation and the p-value for the correlation."
   ]
  },
  {
   "cell_type": "code",
   "execution_count": 16,
   "metadata": {
    "deletable": false,
    "id": "GyoPNwziBm-5",
    "nbgrader": {
     "cell_type": "code",
     "checksum": "7779c20d2b6247b172954cf64b0462a1",
     "grade": false,
     "grade_id": "cell-0753e360c56efe9e",
     "locked": false,
     "schema_version": 3,
     "solution": true,
     "task": false
    }
   },
   "outputs": [
    {
     "name": "stdout",
     "output_type": "stream",
     "text": [
      "Correlation coefficient: 0.7995697092542964\n"
     ]
    }
   ],
   "source": [
    "# Task 6\n",
    "\n",
    "# YOUR CODE HERE\n",
    "# raise NotImplementedError()\n",
    "import scipy.stats as st\n",
    "r, p_val = st.pearsonr(df['Head'],df['Brain'])\n",
    "# View the results\n",
    "print('Correlation coefficient:', r)\n"
   ]
  },
  {
   "cell_type": "markdown",
   "metadata": {
    "id": "pGIa3jCUSS0u"
   },
   "source": [
    "**Task 6 - Test**"
   ]
  },
  {
   "cell_type": "code",
   "execution_count": null,
   "metadata": {
    "deletable": false,
    "editable": false,
    "id": "0DzsijTqSS0v",
    "nbgrader": {
     "cell_type": "code",
     "checksum": "c65ad90406b18a162b9799f3e09841b9",
     "grade": true,
     "grade_id": "cell-7874d478572b8bae",
     "locked": true,
     "points": 1,
     "schema_version": 3,
     "solution": false,
     "task": false
    }
   },
   "outputs": [],
   "source": [
    "# Task 6 - Test\n",
    "\n",
    "assert isinstance(r, float), 'Make sure to assign only the correlation (not the correlation and p-value) to the variable r.'"
   ]
  },
  {
   "cell_type": "markdown",
   "metadata": {
    "id": "wOCbNpPpSS0v"
   },
   "source": [
    "**Task 6** - Correlation coefficient written answer\n",
    "\n",
    "Comment on the correlation coefficient value: Does the value align with your above plot? Is it a strong correlation or a weak correlation? In what direction? Your answer is not autograded but it is required for a complete project.\n",
    "\n",
    "Strong positive correlation"
   ]
  },
  {
   "cell_type": "markdown",
   "metadata": {
    "id": "AzdWVytNTTib"
   },
   "source": [
    "**Task 7** - Correlation coefficient, part 2\n",
    "\n",
    "**Without** doing any other calculations, determine the correlation of *brain weight* with *head size*.\n",
    "\n",
    "* Assign your result to `r_2`; this value should be a float."
   ]
  },
  {
   "cell_type": "code",
   "execution_count": 17,
   "metadata": {
    "deletable": false,
    "id": "G7dsfoNmSS0v",
    "nbgrader": {
     "cell_type": "code",
     "checksum": "3691d90bd6a5b94f85a38e6cb0e1c946",
     "grade": false,
     "grade_id": "cell-1a6fe56b6c095212",
     "locked": false,
     "schema_version": 3,
     "solution": true,
     "task": false
    },
    "outputId": "02ffb4e8-161f-47c6-f78e-e721a003d170"
   },
   "outputs": [
    {
     "name": "stdout",
     "output_type": "stream",
     "text": [
      "Correlation coefficient, part 2: 0.8\n"
     ]
    }
   ],
   "source": [
    "# Task 7\n",
    "\n",
    "# YOUR CODE HERE\n",
    "# raise NotImplementedError()\n",
    "r_2 = 0.80\n",
    "\n",
    "# View the results\n",
    "print('Correlation coefficient, part 2:', r_2)"
   ]
  },
  {
   "cell_type": "markdown",
   "metadata": {
    "id": "N1DwNk3MrIp3"
   },
   "source": [
    "**Task 7 - Test**"
   ]
  },
  {
   "cell_type": "code",
   "execution_count": null,
   "metadata": {
    "deletable": false,
    "editable": false,
    "id": "jyrqUxCZSS0w",
    "nbgrader": {
     "cell_type": "code",
     "checksum": "936b964a37f56dd755d19e8c615c152c",
     "grade": true,
     "grade_id": "cell-7d1c7c0e6c6e1e28",
     "locked": true,
     "points": 1,
     "schema_version": 3,
     "solution": false,
     "task": false
    }
   },
   "outputs": [],
   "source": [
    "# Task 7 - Test\n",
    "\n",
    "# Hidden tests - you will see the results when you submit to Canvas"
   ]
  },
  {
   "cell_type": "markdown",
   "metadata": {
    "id": "RFa5JXjmxive"
   },
   "source": [
    "**Task 8** - Linear model\n",
    "\n",
    "Now that we've calculated the correlation coefficient, we going to fit a linear model to our two variables. We'll use the `statsmodels` to calculate the least-squares regression coefficients (slope and intercept). Our two variables are head size (`Head`) and brain weight (`Brain`).\n",
    "\n",
    "* The import statement has been provided (don't edit this)\n",
    "* Create and fit your model in one step; assign it to `model` (*Hint: remember the format of the input data is `Y ~ X`*)\n",
    "* Using the `model.params[1]` method, assign the slope to the variable `slope`. Your variable should be a float (`numpy.float64`).\n",
    "* Using the same `model.params[0]` method, assign the intercept to the variable `intercept`. Your variable should be a float (`numpy.float64`)."
   ]
  },
  {
   "cell_type": "code",
   "execution_count": 18,
   "metadata": {
    "colab": {
     "base_uri": "https://localhost:8080/",
     "height": 102
    },
    "deletable": false,
    "id": "dWWiUtwTyHp2",
    "nbgrader": {
     "cell_type": "code",
     "checksum": "222f49289ab09ddd1b0eeebb8b47e4f2",
     "grade": false,
     "grade_id": "cell-34c43054fcb49e9c",
     "locked": false,
     "schema_version": 3,
     "solution": true,
     "task": false
    },
    "outputId": "36613ecb-22dd-43da-f738-2f4b5c3644e9"
   },
   "outputs": [
    {
     "name": "stdout",
     "output_type": "stream",
     "text": [
      "The slope is: 0.2634293394893992\n",
      "The intercept is: 325.573421049442\n"
     ]
    }
   ],
   "source": [
    "# Task 8\n",
    "\n",
    "# Import OLS from statsmodel\n",
    "from statsmodels.formula.api import ols\n",
    "\n",
    "# Set-up and fit the model in one step\n",
    "# (format Y ~ X)\n",
    "\n",
    "# YOUR CODE HERE\n",
    "# raise NotImplementedError()\n",
    "model = ols('Brain ~ Head', data=df).fit()\n",
    "slope = model.params[1]\n",
    "intercept = model.params[0]\n",
    "# View the model parameters\n",
    "print('The slope is:', slope)\n",
    "print('The intercept is:', intercept)"
   ]
  },
  {
   "cell_type": "markdown",
   "metadata": {
    "id": "GwARzDqzSS0x"
   },
   "source": [
    "**Task 8 - Test**"
   ]
  },
  {
   "cell_type": "code",
   "execution_count": null,
   "metadata": {
    "deletable": false,
    "editable": false,
    "id": "XX9bLQ-bSS0x",
    "nbgrader": {
     "cell_type": "code",
     "checksum": "f72a6d5cbda40e269ed003cf89c1f106",
     "grade": true,
     "grade_id": "cell-730fe2c573964f36",
     "locked": true,
     "points": 1,
     "schema_version": 3,
     "solution": false,
     "task": false
    }
   },
   "outputs": [],
   "source": [
    "# Task 8 - Test\n",
    "\n",
    "# Hidden tests - you will see the results when you submit to Canvas"
   ]
  },
  {
   "cell_type": "markdown",
   "metadata": {
    "id": "vO7saCVHjuEh"
   },
   "source": [
    "**Task 9** Writing the linear equation\n",
    "\n",
    "Select the statement that correctly shows the linear model of the relationship between head size and brain weight (coefficients are rounded to the hundreths place). Specify your answer in the next code block using `Answer = `.  For example, if the correct answer is choice B, you'll type `Answer = 'B'`.\n",
    "\n",
    "A: $\\hat{Y} = 0.26 + 325.57x$\n",
    "\n",
    "B: $\\hat{Y} = 0.26 - 325.57x$\n",
    "\n",
    "C: $\\hat{Y} = 325.57 + 0.26x$\n",
    "\n",
    "D: $\\hat{Y} = 325.57 - 0.26x$\n"
   ]
  },
  {
   "cell_type": "code",
   "execution_count": null,
   "metadata": {
    "deletable": false,
    "id": "zUazJShUjuEu",
    "nbgrader": {
     "cell_type": "code",
     "checksum": "a42e23352c3541222f82feed50e27108",
     "grade": false,
     "grade_id": "cell-ed50c6ccd43fc7ab",
     "locked": false,
     "schema_version": 3,
     "solution": true,
     "task": false
    }
   },
   "outputs": [],
   "source": [
    "# Task 9\n",
    "\n",
    "# YOUR CODE HERE\n",
    "# raise NotImplementedError()\n",
    "Answer = 'C'"
   ]
  },
  {
   "cell_type": "markdown",
   "metadata": {
    "id": "Zw9E0WTqjuEu"
   },
   "source": [
    "**Task 9 Test**"
   ]
  },
  {
   "cell_type": "code",
   "execution_count": null,
   "metadata": {
    "deletable": false,
    "editable": false,
    "nbgrader": {
     "cell_type": "code",
     "checksum": "0fb23940f2d0b60776f5073d8ba19fe3",
     "grade": true,
     "grade_id": "cell-3a4c554820a7dad3",
     "locked": true,
     "points": 1,
     "schema_version": 3,
     "solution": false,
     "task": false
    }
   },
   "outputs": [],
   "source": [
    "# Task 9 - Test\n",
    "# Hidden tests - you will see the results when you submit to Canvas"
   ]
  },
  {
   "cell_type": "markdown",
   "metadata": {
    "id": "_KlS62UB1UAi"
   },
   "source": [
    "**Task  10** - Interpreting the equation\n",
    "\n",
    "Answer the following questions about the slope and intercept parameters. Your answer is not autograded but it is required for a complete project.\n",
    "\n",
    "10a - What does the slope term tell us about the relationship between head size and brain weight? Make sure to include the units of the variables in your answer!\n",
    "\n",
    "10b - What does the intercept tell us about the relationship between head size and brain weight? *Hint: Think about what a negative intercept means in terms of weight and size - can you have a negative weight?*\n",
    "\n",
    "---\n",
    "\n",
    "10a. 0.26g heavier brain per cubic cm increase in head size\n",
    "\n",
    "10b. you cannot have a negative weight, in addition to this you cannot have a 0 head size or brain weight"
   ]
  },
  {
   "cell_type": "markdown",
   "metadata": {
    "id": "6ZvdF_8OkpyS"
   },
   "source": [
    "**Task 10** Interpreting the equation\n",
    "\n",
    "Select the statement that correctly interprets the slope and intercept coefficients. Specify your answer in the next code block using `Answer = `.  For example, if the correct answer is choice B, you'll type `Answer = 'B'`.\n",
    "\n",
    "A: The slope tells us that, for every additional cubic cm of head size, we expect brain weight to increase by .26g.  It does not make sense to interpret the intercept because 0 is **NOT** one of the x-values in our dataset.\n",
    "\n",
    "B: The slope tells us that, for every additional g of brain weight, we expect head size to increase by .26g.  It does not make sense to interpret the intercept because 0 is one of the x-values in our dataset.\n",
    "\n",
    "C: The slope tells us that, for every additional cubic cm of head size, we expect brain weight to increase by 325.57g.  It does not make sense to interpret the intercept because 0 is one of the x-values in our dataset.\n",
    "\n",
    "D: The intercept tells us that, for every additional cubic cm of head size, we expect brain weight to increase by .26g.  It does not make sense to interpret the slope because 0 is one of the x-values in our dataset.\n"
   ]
  },
  {
   "cell_type": "code",
   "execution_count": null,
   "metadata": {
    "deletable": false,
    "id": "YhVATiWSkpyS",
    "nbgrader": {
     "cell_type": "code",
     "checksum": "300237dbd607ddb88fdf269cff63680d",
     "grade": false,
     "grade_id": "cell-4c6ea81285bef22b",
     "locked": false,
     "schema_version": 3,
     "solution": true,
     "task": false
    }
   },
   "outputs": [],
   "source": [
    "# Task 10\n",
    "\n",
    "# YOUR CODE HERE\n",
    "# raise NotImplementedError()\n",
    "Answer = 'A'"
   ]
  },
  {
   "cell_type": "markdown",
   "metadata": {
    "id": "vpRzwyiKkpyS"
   },
   "source": [
    "**Task 10 Test**"
   ]
  },
  {
   "cell_type": "code",
   "execution_count": null,
   "metadata": {
    "deletable": false,
    "editable": false,
    "nbgrader": {
     "cell_type": "code",
     "checksum": "bf93d89fc16aeb2d1c706cde44e1bd34",
     "grade": true,
     "grade_id": "cell-ba067cd35fde73c7",
     "locked": true,
     "points": 1,
     "schema_version": 3,
     "solution": false,
     "task": false
    }
   },
   "outputs": [],
   "source": [
    "# Task 10 - Test\n",
    "# Hidden tests - you will see the results when you submit to Canvas"
   ]
  },
  {
   "cell_type": "markdown",
   "metadata": {
    "id": "f0NjkceYb2sY"
   },
   "source": [
    "**Task 11** - Scatterplot with regression line\n",
    "\n",
    "Create a scatterplot with the regression line overlayed on top of the data. You can do this either with the seaborn plotting library or with matplotlib.\n",
    "\n",
    "**Tips**\n",
    "\n",
    "* If you use seaborn, turn off the confidence interval plotting (`ci=None`).\n",
    "* If you use matplotlib, you'll have to generate the data for the line using the equation you wrote in Task 9\n",
    "\n",
    "Write your plotting code below. Your plot will not be autograded but it is required for a complete project!"
   ]
  },
  {
   "cell_type": "code",
   "execution_count": 32,
   "metadata": {
    "colab": {
     "base_uri": "https://localhost:8080/",
     "height": 279
    },
    "deletable": false,
    "id": "dKxmzQLYabfm",
    "nbgrader": {
     "cell_type": "code",
     "checksum": "aa36dce40983caa0d079396ad0b0ef99",
     "grade": false,
     "grade_id": "cell-b5053b5a757a7af3",
     "locked": false,
     "schema_version": 3,
     "solution": true,
     "task": false
    },
    "outputId": "018d9929-8e6c-44d3-b3b5-b59a750b3594"
   },
   "outputs": [
    {
     "data": {
      "image/png": "[encoded data removed]",
      "text/plain": [
       "<Figure size 432x288 with 1 Axes>"
      ]
     },
     "metadata": {
      "needs_background": "light"
     },
     "output_type": "display_data"
    }
   ],
   "source": [
    "# Task 11\n",
    "\n",
    "# Plotting code here; not autograde3d\n",
    "# YOUR CODE HERE\n",
    "# raise NotImplementedError()\n",
    "plt.scatter(ind_x,dep_y)\n",
    "plt.xlabel('Head size in cubic cm')\n",
    "plt.ylabel('Brain weight in g')\n",
    "plt.title('Relationship of head size and brain weight')\n",
    "plt.plot(ind_x, 0.26 * ind_x + 325.57)\n",
    "plt.show()"
   ]
  },
  {
   "cell_type": "markdown",
   "metadata": {
    "id": "7dySccNE3pX7"
   },
   "source": [
    "**Task 12** - Making a prediction\n",
    "\n",
    "We're going to use our model to make a prediction. A healthy human has a brain size of 4100 cubic cm. How much do we expect his or her brain to weigh?\n",
    "\n",
    "* Assign the value 4100 to the variable `x_healthy` (it is an integer).\n",
    "* Using your `slope` and `intercept` values, determine the weight of a brain of size `x_healthy`; assign this value to `predict_healthy` and it should be a float.\n"
   ]
  },
  {
   "cell_type": "code",
   "execution_count": 33,
   "metadata": {
    "colab": {
     "base_uri": "https://localhost:8080/",
     "height": 34
    },
    "deletable": false,
    "id": "BNV0bbzH4NFX",
    "nbgrader": {
     "cell_type": "code",
     "checksum": "bfa97d69c32109ba703bb08a0e1fe83f",
     "grade": false,
     "grade_id": "cell-e53d89ddafc02ccf",
     "locked": false,
     "schema_version": 3,
     "solution": true,
     "task": false
    },
    "outputId": "38410054-d532-41df-9f6e-6377cdba9794"
   },
   "outputs": [
    {
     "name": "stdout",
     "output_type": "stream",
     "text": [
      "Prediction for a brain size of 4100 cc: 1405.6337129559786\n"
     ]
    }
   ],
   "source": [
    "# Task 12\n",
    "\n",
    "# YOUR CODE HERE\n",
    "# raise NotImplementedError()\n",
    "x_healthy = 4100\n",
    "# View your prediction\n",
    "predict_healthy = intercept + slope * x_healthy\n",
    "print('Prediction for a brain size of 4100 cc:', predict_healthy)"
   ]
  },
  {
   "cell_type": "markdown",
   "metadata": {
    "id": "OnGU23JI6C1r"
   },
   "source": [
    "**Task 12 - Test**"
   ]
  },
  {
   "cell_type": "code",
   "execution_count": null,
   "metadata": {
    "deletable": false,
    "editable": false,
    "id": "42k24a-jSS0z",
    "nbgrader": {
     "cell_type": "code",
     "checksum": "4ef095d656067d072052fb9c282bfc82",
     "grade": true,
     "grade_id": "cell-d26901edcca8a728",
     "locked": true,
     "points": 1,
     "schema_version": 3,
     "solution": false,
     "task": false
    }
   },
   "outputs": [],
   "source": [
    "# Task 12 - Test\n",
    "\n",
    "assert x_healthy == 4100, \"Make sure to correct set your x variable.\""
   ]
  },
  {
   "cell_type": "markdown",
   "metadata": {
    "id": "rogizl36Bape"
   },
   "source": [
    "**Task 13** - Calculating a residual\n",
    "\n",
    "Now that we've made a prediction, we can take a look at a *model residual*. For this task, you will calculate and interpret the model residual for the first observation in the dataset. Remember that the first observation in the dataset is `Head`=4512 cubic centimeters.\n",
    "\n",
    "* Assign the value of 4512 to the variable `x_first` (it is an integer)\n",
    "* Assign the value of the first observation for `Brain` to the variable `observed_first` (*it is your job to look-up this value in your DataFrame; it should be an integer)\n",
    "* Calculate the predicted value and assign it to the variable `predict_first` (this variable should be a float).\n",
    "* Calculate the residual and assign it to the variable `residual_first` (*Hint: use the equation observed - predicted*. Your result will be float)."
   ]
  },
  {
   "cell_type": "code",
   "execution_count": 36,
   "metadata": {
    "colab": {
     "base_uri": "https://localhost:8080/",
     "height": 204
    },
    "deletable": false,
    "id": "L9_qbtRtBnvr",
    "nbgrader": {
     "cell_type": "code",
     "checksum": "e887e0f5f99e04a5809c27cd1914d750",
     "grade": false,
     "grade_id": "cell-495335b2126a454d",
     "locked": false,
     "schema_version": 3,
     "solution": true,
     "task": false
    },
    "outputId": "1a8f0c94-45a1-46a3-cffc-0da865f6a2db"
   },
   "outputs": [
    {
     "name": "stdout",
     "output_type": "stream",
     "text": [
      "Prediction for a brain size of 4512 cc: 1514.166600825611\n",
      "Residual for the prediction: 15.833399174388887\n"
     ]
    }
   ],
   "source": [
    "# Task 13\n",
    "\n",
    "# YOUR CODE HERE\n",
    "# raise NotImplementedError()\n",
    "x_first = 4512\n",
    "observed_first = 1530\n",
    "predict_first = intercept + slope * x_first\n",
    "residual_first = observed_first - predict_first\n",
    "# View your prediction and residual \n",
    "print('Prediction for a brain size of 4512 cc:', predict_first)\n",
    "print('Residual for the prediction:', residual_first)"
   ]
  },
  {
   "cell_type": "markdown",
   "metadata": {
    "id": "yGiNKDm7SS00"
   },
   "source": [
    "**Task 13 - Test**"
   ]
  },
  {
   "cell_type": "code",
   "execution_count": null,
   "metadata": {
    "deletable": false,
    "editable": false,
    "id": "pOATq2zUSS00",
    "nbgrader": {
     "cell_type": "code",
     "checksum": "8b61a278a2ab888404a0dd2b75567800",
     "grade": true,
     "grade_id": "cell-10ee8c2149d64bdd",
     "locked": true,
     "points": 1,
     "schema_version": 3,
     "solution": false,
     "task": false
    }
   },
   "outputs": [],
   "source": [
    "# Task 13 - Test\n",
    "\n",
    "assert x_first == 4512, \"Make sure to correct set your x variable.\""
   ]
  },
  {
   "cell_type": "markdown",
   "metadata": {
    "id": "C4NzMnGd7bVI"
   },
   "source": [
    "## Part B\n",
    "\n",
    "### Sleep Data\n",
    "\n",
    "Use the following information to answer Tasks 14 - 16 in the rest of this project:\n",
    "\n",
    "Researchers recorded data on sleep duration as well as a set of ecological and constitutional variables for a selection of mammal species. This data is available in the Sleep.csv dataset; the URL is provided below. \n",
    "\n",
    "(*Source: Allison, T. and Cicchetti, D. (1976), \"Sleep in Mammals: Ecological and Constitutional Correlates\",  Science, November 12, vol. 194, pp. 732-734.*)\n",
    "\n",
    "**Data Dictionary:**\n",
    "\n",
    "| Variable Name |            Description           |                                                                 Details                                                                 |              |   |\n",
    "|:-------------:|:--------------------------------:|:---------------------------------------------------------------------------------------------------------------------------------------:|--------------|---|\n",
    "| Animal        |            Animal name           |                                                            Character [string]                                                           |    |   |\n",
    "| Body          |            Body weight           |                                                               Numeric [kg]                                                              |       |   |\n",
    "| Brain         |           Brain weight           |                                                               Numeric [g]                                                               |  |   |\n",
    "| SWsleep       | Slow wave (“non-dreaming”) sleep | Numeric [hours]                                                                                                                         |              |   |\n",
    "| Parasleep     | Paradoxical (“dreaming”) sleep   | Numeric [hours]                                                                                                                         |              |   |\n",
    "| Totsleep      | Total sleep                      | Numeric [hours]                                                                                                                         |              |   |\n",
    "| Life          | Maximum life expectancy          | Numeric [years]                                                                                                                         |              |   |\n",
    "| Gest          | Gestation time                   | Numeric [days]                                                                                                                          |              |   |\n",
    "| Pred          | Predation index                  | Numeric [1 – 5] 1 = least likely to be preyed upon, 5 = most likely to be preyed upon                                                   |              |   |\n",
    "| Exposure      | Sleep exposure index             | Numeric [1 – 5] 1 = least amount of exposure during sleep (mammal sleeps indoors or in a den), 5 = most amount of exposure during sleep |              |   |\n",
    "| Danger        | Overall danger index             | Numeric [ 1 – 5] 1 = least amount of danger from other animals, 5 = most amount of danger from other animals                            |              |   |\n",
    "\n"
   ]
  },
  {
   "cell_type": "markdown",
   "metadata": {
    "id": "TyD5c8z4SS00"
   },
   "source": [
    "**Task 14**\n",
    "\n",
    "Before we can look at the data, we need to load in the data. The URL has been provided.\n",
    "\n",
    "* Load in the CSV file as a DataFrame and assign it to the variable `df_sleep`.\n",
    "* Make sure to view the DataFrame!"
   ]
  },
  {
   "cell_type": "code",
   "execution_count": 39,
   "metadata": {
    "colab": {
     "base_uri": "https://localhost:8080/",
     "height": 204
    },
    "deletable": false,
    "id": "lAGRV2LkuKyw",
    "nbgrader": {
     "cell_type": "code",
     "checksum": "e8b36acb488f375c75345ccdd751c106",
     "grade": false,
     "grade_id": "cell-55ea1290b6484513",
     "locked": false,
     "schema_version": 3,
     "solution": true,
     "task": false
    },
    "outputId": "daf70fc6-1df1-411d-fb05-0cac9035bef7"
   },
   "outputs": [
    {
     "name": "stdout",
     "output_type": "stream",
     "text": [
      "(42, 11)\n"
     ]
    },
    {
     "data": {
      "text/html": [
       "<div>\n",
       "<style scoped>\n",
       "    .dataframe tbody tr th:only-of-type {\n",
       "        vertical-align: middle;\n",
       "    }\n",
       "\n",
       "    .dataframe tbody tr th {\n",
       "        vertical-align: top;\n",
       "    }\n",
       "\n",
       "    .dataframe thead th {\n",
       "        text-align: right;\n",
       "    }\n",
       "</style>\n",
       "<table border=\"1\" class=\"dataframe\">\n",
       "  <thead>\n",
       "    <tr style=\"text-align: right;\">\n",
       "      <th></th>\n",
       "      <th>Animal</th>\n",
       "      <th>Body</th>\n",
       "      <th>Brain</th>\n",
       "      <th>SWsleep</th>\n",
       "      <th>Parasleep</th>\n",
       "      <th>Totsleep</th>\n",
       "      <th>Life</th>\n",
       "      <th>Gest</th>\n",
       "      <th>Pred</th>\n",
       "      <th>Exposure</th>\n",
       "      <th>Danger</th>\n",
       "    </tr>\n",
       "  </thead>\n",
       "  <tbody>\n",
       "    <tr>\n",
       "      <th>0</th>\n",
       "      <td>African_giant_pouched_rat</td>\n",
       "      <td>1.000</td>\n",
       "      <td>6.6</td>\n",
       "      <td>6.3</td>\n",
       "      <td>2.0</td>\n",
       "      <td>8.3</td>\n",
       "      <td>4.5</td>\n",
       "      <td>42.0</td>\n",
       "      <td>3</td>\n",
       "      <td>1</td>\n",
       "      <td>3</td>\n",
       "    </tr>\n",
       "    <tr>\n",
       "      <th>1</th>\n",
       "      <td>Asian_elephant</td>\n",
       "      <td>2547.000</td>\n",
       "      <td>4603.0</td>\n",
       "      <td>2.1</td>\n",
       "      <td>1.8</td>\n",
       "      <td>3.9</td>\n",
       "      <td>69.0</td>\n",
       "      <td>624.0</td>\n",
       "      <td>3</td>\n",
       "      <td>5</td>\n",
       "      <td>4</td>\n",
       "    </tr>\n",
       "    <tr>\n",
       "      <th>2</th>\n",
       "      <td>Baboon</td>\n",
       "      <td>10.550</td>\n",
       "      <td>179.5</td>\n",
       "      <td>9.1</td>\n",
       "      <td>0.7</td>\n",
       "      <td>9.8</td>\n",
       "      <td>27.0</td>\n",
       "      <td>180.0</td>\n",
       "      <td>4</td>\n",
       "      <td>4</td>\n",
       "      <td>4</td>\n",
       "    </tr>\n",
       "    <tr>\n",
       "      <th>3</th>\n",
       "      <td>Big_brown_bat</td>\n",
       "      <td>0.023</td>\n",
       "      <td>0.3</td>\n",
       "      <td>15.8</td>\n",
       "      <td>3.9</td>\n",
       "      <td>19.7</td>\n",
       "      <td>19.0</td>\n",
       "      <td>35.0</td>\n",
       "      <td>1</td>\n",
       "      <td>1</td>\n",
       "      <td>1</td>\n",
       "    </tr>\n",
       "    <tr>\n",
       "      <th>4</th>\n",
       "      <td>Brazilian_tapir</td>\n",
       "      <td>160.000</td>\n",
       "      <td>169.0</td>\n",
       "      <td>5.2</td>\n",
       "      <td>1.0</td>\n",
       "      <td>6.2</td>\n",
       "      <td>30.4</td>\n",
       "      <td>392.0</td>\n",
       "      <td>4</td>\n",
       "      <td>5</td>\n",
       "      <td>4</td>\n",
       "    </tr>\n",
       "  </tbody>\n",
       "</table>\n",
       "</div>"
      ],
      "text/plain": [
       "                      Animal      Body   Brain  SWsleep  Parasleep  Totsleep  \\\n",
       "0  African_giant_pouched_rat     1.000     6.6      6.3        2.0       8.3   \n",
       "1             Asian_elephant  2547.000  4603.0      2.1        1.8       3.9   \n",
       "2                     Baboon    10.550   179.5      9.1        0.7       9.8   \n",
       "3              Big_brown_bat     0.023     0.3     15.8        3.9      19.7   \n",
       "4            Brazilian_tapir   160.000   169.0      5.2        1.0       6.2   \n",
       "\n",
       "   Life   Gest  Pred  Exposure  Danger  \n",
       "0   4.5   42.0     3         1       3  \n",
       "1  69.0  624.0     3         5       4  \n",
       "2  27.0  180.0     4         4       4  \n",
       "3  19.0   35.0     1         1       1  \n",
       "4  30.4  392.0     4         5       4  "
      ]
     },
     "execution_count": 39,
     "metadata": {},
     "output_type": "execute_result"
    }
   ],
   "source": [
    "# Task 14\n",
    "\n",
    "# Dataset URL\n",
    "data_url_2 = 'https://raw.githubusercontent.com/LambdaSchool/data-science-practice-datasets/main/unit_1/Sleep/Sleep.csv'\n",
    "\n",
    "# YOUR CODE HERE\n",
    "# raise NotImplementedError()\n",
    "df_sleep = pd.read_csv(data_url_2)\n",
    "# Print out your DataFrame\n",
    "print(df_sleep.shape)\n",
    "df_sleep.head()"
   ]
  },
  {
   "cell_type": "markdown",
   "metadata": {
    "id": "E3hdCaqsSS00"
   },
   "source": [
    "**Task 14 - Test**"
   ]
  },
  {
   "cell_type": "code",
   "execution_count": null,
   "metadata": {
    "deletable": false,
    "editable": false,
    "id": "ZbU-ZQKASS01",
    "nbgrader": {
     "cell_type": "code",
     "checksum": "b637b84401ea04191807b8f1ab218c81",
     "grade": true,
     "grade_id": "cell-bdadecfb395ed39a",
     "locked": true,
     "points": 1,
     "schema_version": 3,
     "solution": false,
     "task": false
    }
   },
   "outputs": [],
   "source": [
    "# Task 14 - Test\n",
    "\n",
    "assert isinstance(df_sleep, pd.DataFrame), 'Have you created a DataFrame named `df_sleep`?'\n",
    "assert len(df_sleep) == 42\n"
   ]
  },
  {
   "cell_type": "markdown",
   "metadata": {
    "id": "bren8oq27vGP"
   },
   "source": [
    "**Task 15**\n",
    "\n",
    "Write a function that replaces the `_` character in each animal name with a space.  For example,  Asian_elephant = Asian elephant.\n",
    "\n",
    "Hint: use the `string.replace()` string method. Look up the documentation or the Canvas material to help.\n",
    "\n",
    "* Write your function and define it with the name `name_nospace`. It should return a string.\n",
    "* Use your function to add an additional column to the `df_sleep` DataFrame; this new column should be named `Animal_name`. (*Hint: consider using the `.apply()` method on your DataFrame*)"
   ]
  },
  {
   "cell_type": "code",
   "execution_count": 40,
   "metadata": {
    "colab": {
     "base_uri": "https://localhost:8080/",
     "height": 204
    },
    "deletable": false,
    "id": "IDTgzW2B8RLn",
    "nbgrader": {
     "cell_type": "code",
     "checksum": "fb3de921935bc289e143d0d9f58e5efc",
     "grade": false,
     "grade_id": "cell-304116e44bf4977b",
     "locked": false,
     "schema_version": 3,
     "solution": true,
     "task": false
    },
    "outputId": "6daa516a-4e5a-423b-96ca-4597f317de7e"
   },
   "outputs": [
    {
     "data": {
      "text/html": [
       "<div>\n",
       "<style scoped>\n",
       "    .dataframe tbody tr th:only-of-type {\n",
       "        vertical-align: middle;\n",
       "    }\n",
       "\n",
       "    .dataframe tbody tr th {\n",
       "        vertical-align: top;\n",
       "    }\n",
       "\n",
       "    .dataframe thead th {\n",
       "        text-align: right;\n",
       "    }\n",
       "</style>\n",
       "<table border=\"1\" class=\"dataframe\">\n",
       "  <thead>\n",
       "    <tr style=\"text-align: right;\">\n",
       "      <th></th>\n",
       "      <th>Animal</th>\n",
       "      <th>Body</th>\n",
       "      <th>Brain</th>\n",
       "      <th>SWsleep</th>\n",
       "      <th>Parasleep</th>\n",
       "      <th>Totsleep</th>\n",
       "      <th>Life</th>\n",
       "      <th>Gest</th>\n",
       "      <th>Pred</th>\n",
       "      <th>Exposure</th>\n",
       "      <th>Danger</th>\n",
       "      <th>Animal_name</th>\n",
       "    </tr>\n",
       "  </thead>\n",
       "  <tbody>\n",
       "    <tr>\n",
       "      <th>0</th>\n",
       "      <td>African_giant_pouched_rat</td>\n",
       "      <td>1.000</td>\n",
       "      <td>6.6</td>\n",
       "      <td>6.3</td>\n",
       "      <td>2.0</td>\n",
       "      <td>8.3</td>\n",
       "      <td>4.5</td>\n",
       "      <td>42.0</td>\n",
       "      <td>3</td>\n",
       "      <td>1</td>\n",
       "      <td>3</td>\n",
       "      <td>African giant pouched rat</td>\n",
       "    </tr>\n",
       "    <tr>\n",
       "      <th>1</th>\n",
       "      <td>Asian_elephant</td>\n",
       "      <td>2547.000</td>\n",
       "      <td>4603.0</td>\n",
       "      <td>2.1</td>\n",
       "      <td>1.8</td>\n",
       "      <td>3.9</td>\n",
       "      <td>69.0</td>\n",
       "      <td>624.0</td>\n",
       "      <td>3</td>\n",
       "      <td>5</td>\n",
       "      <td>4</td>\n",
       "      <td>Asian elephant</td>\n",
       "    </tr>\n",
       "    <tr>\n",
       "      <th>2</th>\n",
       "      <td>Baboon</td>\n",
       "      <td>10.550</td>\n",
       "      <td>179.5</td>\n",
       "      <td>9.1</td>\n",
       "      <td>0.7</td>\n",
       "      <td>9.8</td>\n",
       "      <td>27.0</td>\n",
       "      <td>180.0</td>\n",
       "      <td>4</td>\n",
       "      <td>4</td>\n",
       "      <td>4</td>\n",
       "      <td>Baboon</td>\n",
       "    </tr>\n",
       "    <tr>\n",
       "      <th>3</th>\n",
       "      <td>Big_brown_bat</td>\n",
       "      <td>0.023</td>\n",
       "      <td>0.3</td>\n",
       "      <td>15.8</td>\n",
       "      <td>3.9</td>\n",
       "      <td>19.7</td>\n",
       "      <td>19.0</td>\n",
       "      <td>35.0</td>\n",
       "      <td>1</td>\n",
       "      <td>1</td>\n",
       "      <td>1</td>\n",
       "      <td>Big brown bat</td>\n",
       "    </tr>\n",
       "    <tr>\n",
       "      <th>4</th>\n",
       "      <td>Brazilian_tapir</td>\n",
       "      <td>160.000</td>\n",
       "      <td>169.0</td>\n",
       "      <td>5.2</td>\n",
       "      <td>1.0</td>\n",
       "      <td>6.2</td>\n",
       "      <td>30.4</td>\n",
       "      <td>392.0</td>\n",
       "      <td>4</td>\n",
       "      <td>5</td>\n",
       "      <td>4</td>\n",
       "      <td>Brazilian tapir</td>\n",
       "    </tr>\n",
       "  </tbody>\n",
       "</table>\n",
       "</div>"
      ],
      "text/plain": [
       "                      Animal      Body   Brain  SWsleep  Parasleep  Totsleep  \\\n",
       "0  African_giant_pouched_rat     1.000     6.6      6.3        2.0       8.3   \n",
       "1             Asian_elephant  2547.000  4603.0      2.1        1.8       3.9   \n",
       "2                     Baboon    10.550   179.5      9.1        0.7       9.8   \n",
       "3              Big_brown_bat     0.023     0.3     15.8        3.9      19.7   \n",
       "4            Brazilian_tapir   160.000   169.0      5.2        1.0       6.2   \n",
       "\n",
       "   Life   Gest  Pred  Exposure  Danger                Animal_name  \n",
       "0   4.5   42.0     3         1       3  African giant pouched rat  \n",
       "1  69.0  624.0     3         5       4             Asian elephant  \n",
       "2  27.0  180.0     4         4       4                     Baboon  \n",
       "3  19.0   35.0     1         1       1              Big brown bat  \n",
       "4  30.4  392.0     4         5       4            Brazilian tapir  "
      ]
     },
     "execution_count": 40,
     "metadata": {},
     "output_type": "execute_result"
    }
   ],
   "source": [
    "# Task 15\n",
    "\n",
    "# Write your function here\n",
    "def name_nospace(string):\n",
    "    return string.replace('_', ' ')\n",
    "\n",
    "# YOUR CODE HERE\n",
    "# raise NotImplementedError()\n",
    "df_sleep['Animal_name'] = df_sleep['Animal'].apply(name_nospace)\n",
    "\n",
    "# View your DataFrame\n",
    "df_sleep.head()"
   ]
  },
  {
   "cell_type": "markdown",
   "metadata": {
    "id": "1sN4tabGSS01"
   },
   "source": [
    "**Task 15 - Test**"
   ]
  },
  {
   "cell_type": "code",
   "execution_count": null,
   "metadata": {
    "deletable": false,
    "editable": false,
    "id": "E-TcPcWUSS01",
    "nbgrader": {
     "cell_type": "code",
     "checksum": "ff7093a99a757d7b10a201e7320778c6",
     "grade": true,
     "grade_id": "cell-2986063fe6fc3654",
     "locked": true,
     "points": 1,
     "schema_version": 3,
     "solution": false,
     "task": false
    }
   },
   "outputs": [],
   "source": [
    "# Task 15 - Test\n",
    "\n",
    "assert name_nospace('Test_name') == 'Test name', 'Double check your function and that it returns the correct name.'\n"
   ]
  },
  {
   "cell_type": "markdown",
   "metadata": {
    "id": "vOHOv5cc-plj"
   },
   "source": [
    "**Task 15** - Correlation calculations\n",
    "\n",
    "On this final graded task, we're going to complete two more correlation calculations.\n",
    "\n",
    "* Calculate the correlation between life expectancy and total sleep - assign your result to `corr_life_sleep`. Your number should be a float.\n",
    "* Calculate the correlation between gestation time and total sleep - assign your result to `corr_gest_sleep`. Your number should be a float."
   ]
  },
  {
   "cell_type": "code",
   "execution_count": 44,
   "metadata": {
    "colab": {
     "base_uri": "https://localhost:8080/"
    },
    "deletable": false,
    "id": "_eLjxXMXSS02",
    "nbgrader": {
     "cell_type": "code",
     "checksum": "217f6c08e7286d957e6a5f0c0389c2d0",
     "grade": false,
     "grade_id": "cell-c24f71c01d7b61ce",
     "locked": false,
     "schema_version": 3,
     "solution": true,
     "task": false
    },
    "outputId": "a5bd16bd-3b6e-46f6-f779-51277210d149"
   },
   "outputs": [
    {
     "name": "stdout",
     "output_type": "stream",
     "text": [
      "Correlation between total sleep and life expectancy= -0.38244617694907174\n",
      "Correlation between total sleep and gestation time= -0.6144743061371065\n"
     ]
    }
   ],
   "source": [
    "# Task 15\n",
    "\n",
    "# YOUR CODE HERE\n",
    "# raise NotImplementedError()\n",
    "corr_life_sleep, p_val1 = st.pearsonr(df_sleep['Totsleep'], df_sleep['Life'])\n",
    "corr_gest_sleep, p_val2 = st.pearsonr(df_sleep['Totsleep'], df_sleep['Gest']) \n",
    "print(\"Correlation between total sleep and life expectancy=\", corr_life_sleep)\n",
    "print(\"Correlation between total sleep and gestation time=\", corr_gest_sleep)"
   ]
  },
  {
   "cell_type": "markdown",
   "metadata": {
    "id": "9L7UqH7nSS02"
   },
   "source": [
    "**Task 16 - Test**"
   ]
  },
  {
   "cell_type": "code",
   "execution_count": 46,
   "metadata": {},
   "outputs": [
    {
     "data": {
      "image/png": "[encoded data removed]",
      "text/plain": [
       "<Figure size 432x288 with 1 Axes>"
      ]
     },
     "metadata": {
      "needs_background": "light"
     },
     "output_type": "display_data"
    },
    {
     "data": {
      "image/png": "[encoded data removed]",
      "text/plain": [
       "<Figure size 432x288 with 1 Axes>"
      ]
     },
     "metadata": {
      "needs_background": "light"
     },
     "output_type": "display_data"
    }
   ],
   "source": [
    "plt.scatter(df_sleep['Totsleep'],df_sleep['Life'])\n",
    "plt.xlabel('Total sleep')\n",
    "plt.ylabel('Life Expectancy')\n",
    "plt.title('Relationship of total sleep and life expectancy')\n",
    "plt.show()\n",
    "\n",
    "plt.scatter(df_sleep['Totsleep'],df_sleep['Gest'])\n",
    "plt.xlabel('Total sleep')\n",
    "plt.ylabel('Gestation time')\n",
    "plt.title('Relationship of total sleep and gestation time')\n",
    "plt.show()"
   ]
  },
  {
   "cell_type": "code",
   "execution_count": null,
   "metadata": {
    "deletable": false,
    "editable": false,
    "id": "DlhS1o27-ss8",
    "nbgrader": {
     "cell_type": "code",
     "checksum": "b9c2c7ad06bcb852a9887f663491b774",
     "grade": true,
     "grade_id": "cell-a10442996184bd9c",
     "locked": true,
     "points": 1,
     "schema_version": 3,
     "solution": false,
     "task": false
    }
   },
   "outputs": [],
   "source": [
    "# Task 16 - Test\n",
    "\n",
    "# Hidden tests - you will see the results when you submit to Canvas\n"
   ]
  }
 ],
 "metadata": {
  "colab": {
   "collapsed_sections": [],
   "name": "LS_DS_131_Simple_Linear_Regression_Assignment_AG.ipynb",
   "provenance": []
  },
  "kernelspec": {
   "display_name": "Python 3 (ipykernel)",
   "language": "python",
   "name": "python3"
  },
  "language_info": {
   "codemirror_mode": {
    "name": "ipython",
    "version": 3
   },
   "file_extension": ".py",
   "mimetype": "text/x-python",
   "name": "python",
   "nbconvert_exporter": "python",
   "pygments_lexer": "ipython3",
   "version": "3.9.7"
  }
 },
 "nbformat": 4,
 "nbformat_minor": 1
}
